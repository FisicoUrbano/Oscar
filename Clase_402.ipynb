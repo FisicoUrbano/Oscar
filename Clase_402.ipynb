{
  "nbformat": 4,
  "nbformat_minor": 0,
  "metadata": {
    "colab": {
      "name": "Clase_402.ipynb",
      "provenance": [],
      "collapsed_sections": [
        "DpB9Lw4HqsQM"
      ],
      "authorship_tag": "ABX9TyMjfGArYhK99usypE/7vZbR",
      "include_colab_link": true
    },
    "kernelspec": {
      "name": "python3",
      "display_name": "Python 3"
    },
    "language_info": {
      "name": "python"
    }
  },
  "cells": [
    {
      "cell_type": "markdown",
      "metadata": {
        "id": "view-in-github",
        "colab_type": "text"
      },
      "source": [
        "<a href=\"https://colab.research.google.com/github/FisicoUrbano/Oscar/blob/master/Clase_402.ipynb\" target=\"_parent\"><img src=\"https://colab.research.google.com/assets/colab-badge.svg\" alt=\"Open In Colab\"/></a>"
      ]
    },
    {
      "cell_type": "markdown",
      "metadata": {
        "id": "_rHeoPqodxQf"
      },
      "source": [
        "# Introducción a Python\n",
        "\n"
      ]
    },
    {
      "cell_type": "markdown",
      "metadata": {
        "id": "DpB9Lw4HqsQM"
      },
      "source": [
        "## Operaciones básicas\n"
      ]
    },
    {
      "cell_type": "code",
      "metadata": {
        "colab": {
          "base_uri": "https://localhost:8080/"
        },
        "id": "YSzdRgZvc6Ur",
        "outputId": "d0bee71a-e224-4a2b-96f6-c6a952c2f014"
      },
      "source": [
        "print(\"Hola Mundo\")"
      ],
      "execution_count": null,
      "outputs": [
        {
          "output_type": "stream",
          "text": [
            "Hola Mundo\n"
          ],
          "name": "stdout"
        }
      ]
    },
    {
      "cell_type": "code",
      "metadata": {
        "id": "xr2MjkqZePtH"
      },
      "source": [
        "# Tipo entero\n",
        "a = 3\n",
        "#Tipo flotante\n",
        "b = 0.5\n",
        "# Tipo cadena\n",
        "c = \"Hola\"\n",
        "#Tipo boleano\n",
        "d = True"
      ],
      "execution_count": null,
      "outputs": []
    },
    {
      "cell_type": "code",
      "metadata": {
        "id": "aX621bcie3nv"
      },
      "source": [
        "\n",
        "f = Hola\n",
        "# Nos da error porque el objeto Hola, no está definido"
      ],
      "execution_count": null,
      "outputs": []
    },
    {
      "cell_type": "code",
      "metadata": {
        "colab": {
          "base_uri": "https://localhost:8080/"
        },
        "id": "N9B-WRuaeqYh",
        "outputId": "c2dea3e4-a614-4a92-f230-710a18d82b01"
      },
      "source": [
        "# Función print: Imprime el objeto entre paréntesis\n",
        "print(a)\n",
        "print(f)"
      ],
      "execution_count": null,
      "outputs": [
        {
          "output_type": "stream",
          "text": [
            "3\n",
            "3\n"
          ],
          "name": "stdout"
        }
      ]
    },
    {
      "cell_type": "code",
      "metadata": {
        "colab": {
          "base_uri": "https://localhost:8080/"
        },
        "id": "vqx0GobgfobX",
        "outputId": "82c62a83-06f5-455f-f87d-e06dda684e6f"
      },
      "source": [
        "#Tipo de objetos\n",
        "print(type(a))\n",
        "print(type(b))\n",
        "print(type(c),type(d))"
      ],
      "execution_count": null,
      "outputs": [
        {
          "output_type": "stream",
          "text": [
            "<class 'int'>\n",
            "<class 'float'>\n",
            "<class 'str'> <class 'bool'>\n"
          ],
          "name": "stdout"
        }
      ]
    },
    {
      "cell_type": "code",
      "metadata": {
        "colab": {
          "base_uri": "https://localhost:8080/"
        },
        "id": "fHINNbJbgU7n",
        "outputId": "54ce91b5-aae1-49b1-e6ca-cd76c162e3e2"
      },
      "source": [
        "print(a*b)\n",
        "print(a,b,a*b)\n",
        "h = a *b\n",
        "print(h)"
      ],
      "execution_count": null,
      "outputs": [
        {
          "output_type": "stream",
          "text": [
            "1.5\n",
            "3 0.5 1.5\n",
            "1.5\n"
          ],
          "name": "stdout"
        }
      ]
    },
    {
      "cell_type": "code",
      "metadata": {
        "colab": {
          "base_uri": "https://localhost:8080/"
        },
        "id": "z5p6WdaWg3hK",
        "outputId": "32f94a30-aa29-4ac6-eb13-a172db441658"
      },
      "source": [
        "base = 3\n",
        "altura = 4\n",
        "area = base * altura\n",
        "print(area)"
      ],
      "execution_count": null,
      "outputs": [
        {
          "output_type": "stream",
          "text": [
            "12\n"
          ],
          "name": "stdout"
        }
      ]
    },
    {
      "cell_type": "markdown",
      "metadata": {
        "id": "ERjOz-OZivWa"
      },
      "source": [
        "## Asignaciones"
      ]
    },
    {
      "cell_type": "code",
      "metadata": {
        "colab": {
          "base_uri": "https://localhost:8080/"
        },
        "id": "6TLO8poYitOF",
        "outputId": "ebb0470e-7fda-42c5-dd3d-5a4162477efa"
      },
      "source": [
        "a = 2\n",
        "print(a)"
      ],
      "execution_count": null,
      "outputs": [
        {
          "output_type": "stream",
          "text": [
            "2\n"
          ],
          "name": "stdout"
        }
      ]
    },
    {
      "cell_type": "code",
      "metadata": {
        "colab": {
          "base_uri": "https://localhost:8080/"
        },
        "id": "ocuDxaCyi-kK",
        "outputId": "9911c72c-13e6-40cf-d260-5aaaabf778c9"
      },
      "source": [
        "a = a + 3\n",
        "print(a)\n"
      ],
      "execution_count": null,
      "outputs": [
        {
          "output_type": "stream",
          "text": [
            "23\n"
          ],
          "name": "stdout"
        }
      ]
    },
    {
      "cell_type": "code",
      "metadata": {
        "colab": {
          "base_uri": "https://localhost:8080/"
        },
        "id": "pIn5cHSXja3Q",
        "outputId": "c7b3aa17-995d-4f20-940d-4d0c8fb591ea"
      },
      "source": [
        "# Asignar suma\n",
        "#a = a + 3\n",
        "a += 3\n",
        "print(a)"
      ],
      "execution_count": null,
      "outputs": [
        {
          "output_type": "stream",
          "text": [
            "29\n"
          ],
          "name": "stdout"
        }
      ]
    },
    {
      "cell_type": "code",
      "metadata": {
        "colab": {
          "base_uri": "https://localhost:8080/"
        },
        "id": "Augtbu_Zj3LM",
        "outputId": "f99de9a5-4f9b-4626-90eb-5753cd0157f0"
      },
      "source": [
        "# Asignar por multiplicación\n",
        "# a = a * 2\n",
        "a *= 2\n",
        "print(a)"
      ],
      "execution_count": null,
      "outputs": [
        {
          "output_type": "stream",
          "text": [
            "128\n"
          ],
          "name": "stdout"
        }
      ]
    },
    {
      "cell_type": "code",
      "metadata": {
        "colab": {
          "base_uri": "https://localhost:8080/"
        },
        "id": "5UXGx8lYkV9G",
        "outputId": "41d53b1a-561e-460d-d83d-8c9c77f8fc84"
      },
      "source": [
        "# Asignar por resta\n",
        "a -= 2\n",
        "print(a)"
      ],
      "execution_count": null,
      "outputs": [
        {
          "output_type": "stream",
          "text": [
            "114\n"
          ],
          "name": "stdout"
        }
      ]
    },
    {
      "cell_type": "code",
      "metadata": {
        "colab": {
          "base_uri": "https://localhost:8080/"
        },
        "id": "Q4h6uK6Vl6Ap",
        "outputId": "74f2c89f-6f73-4b11-ebb9-d18dc541fd11"
      },
      "source": [
        "# Asignar por exponente\n",
        "a **= 2\n",
        "print(a)"
      ],
      "execution_count": null,
      "outputs": [
        {
          "output_type": "stream",
          "text": [
            "65536\n"
          ],
          "name": "stdout"
        }
      ]
    },
    {
      "cell_type": "code",
      "metadata": {
        "colab": {
          "base_uri": "https://localhost:8080/"
        },
        "id": "tSZxxPYWnRtN",
        "outputId": "e87b4805-cfe7-4025-c018-66b7a7efc2ce"
      },
      "source": [
        "# Función ingresar un objeto escrito por teclado\n",
        "print('Dame un número:')\n",
        "t = input()\n",
        "print(int(t)*2)"
      ],
      "execution_count": null,
      "outputs": [
        {
          "output_type": "stream",
          "text": [
            "Dame un número:\n",
            "7\n",
            "14\n"
          ],
          "name": "stdout"
        }
      ]
    },
    {
      "cell_type": "code",
      "metadata": {
        "colab": {
          "base_uri": "https://localhost:8080/"
        },
        "id": "Y7rQtIM-oBls",
        "outputId": "71dfa39a-9793-47ad-f92e-690975c228fd"
      },
      "source": [
        "print(\"Dame tu nombre:\")\n",
        "x = input()\n",
        "print(\"Hola,\" + x)"
      ],
      "execution_count": null,
      "outputs": [
        {
          "output_type": "stream",
          "text": [
            "Dame tu nombre:\n",
            "Oscar\n",
            "Hola,Oscar\n"
          ],
          "name": "stdout"
        }
      ]
    },
    {
      "cell_type": "code",
      "metadata": {
        "colab": {
          "base_uri": "https://localhost:8080/"
        },
        "id": "zdPWRhuZoz6o",
        "outputId": "51dcd085-43f5-42ad-e2c4-cd73cec62566"
      },
      "source": [
        "num1 = input('Ingresa un número: ') # input sirve para ingresas información desde el teclado\n",
        "num2 = input('Ingresa otro número: ')\n",
        "suma = int(num1) + int(num2)\n",
        "multiplicacion = int(num1) * int(num2) \n",
        "print(suma)\n",
        "print(multiplicacion)\n"
      ],
      "execution_count": null,
      "outputs": [
        {
          "output_type": "stream",
          "text": [
            "Ingresa un número: 4\n",
            "Ingresa otro número: 10\n",
            "14\n",
            "40\n"
          ],
          "name": "stdout"
        }
      ]
    },
    {
      "cell_type": "markdown",
      "metadata": {
        "id": "c4KUBhkOqe-F"
      },
      "source": [
        "## Listas"
      ]
    },
    {
      "cell_type": "code",
      "metadata": {
        "colab": {
          "base_uri": "https://localhost:8080/"
        },
        "id": "IsW440Wxqlvc",
        "outputId": "ce65a97d-5cea-4033-c49d-e1de4696d5c6"
      },
      "source": [
        "lista1 = [2,4,'Hola',3.5] #para generar una lista necesito usar corchetes\n",
        "print(lista1)\n",
        "lista2 = [7,-1,'lista']\n",
        "print(lista2)\n"
      ],
      "execution_count": null,
      "outputs": [
        {
          "output_type": "stream",
          "text": [
            "[2, 4, 'Hola', 3.5]\n",
            "[7, -1, 'lista']\n"
          ],
          "name": "stdout"
        }
      ]
    },
    {
      "cell_type": "code",
      "metadata": {
        "colab": {
          "base_uri": "https://localhost:8080/"
        },
        "id": "VONzgGg-soq2",
        "outputId": "8625a367-98a9-4f15-f79c-9ddee8b23f92"
      },
      "source": [
        "lista = [lista1,lista2]\n",
        "lista"
      ],
      "execution_count": null,
      "outputs": [
        {
          "output_type": "execute_result",
          "data": {
            "text/plain": [
              "[[2, 4, 'Hola', 3.5], [7, -1, 'lista']]"
            ]
          },
          "metadata": {
            "tags": []
          },
          "execution_count": 74
        }
      ]
    },
    {
      "cell_type": "code",
      "metadata": {
        "colab": {
          "base_uri": "https://localhost:8080/"
        },
        "id": "G2D3QORhtArl",
        "outputId": "b303acdf-d92b-44e0-cd69-5c0ee283fe34"
      },
      "source": [
        "lista3=lista1 + lista2\n",
        "lista3"
      ],
      "execution_count": null,
      "outputs": [
        {
          "output_type": "execute_result",
          "data": {
            "text/plain": [
              "[2, 4, 'Hola', 3.5, 7, -1, 'lista']"
            ]
          },
          "metadata": {
            "tags": []
          },
          "execution_count": 80
        }
      ]
    },
    {
      "cell_type": "code",
      "metadata": {
        "colab": {
          "base_uri": "https://localhost:8080/",
          "height": 35
        },
        "id": "QXdWBEk8tLjZ",
        "outputId": "bd91587a-f3cc-4c52-ac9b-5af619ce7f97"
      },
      "source": [
        "lista2[2]"
      ],
      "execution_count": null,
      "outputs": [
        {
          "output_type": "execute_result",
          "data": {
            "application/vnd.google.colaboratory.intrinsic+json": {
              "type": "string"
            },
            "text/plain": [
              "'lista'"
            ]
          },
          "metadata": {
            "tags": []
          },
          "execution_count": 83
        }
      ]
    },
    {
      "cell_type": "code",
      "metadata": {
        "colab": {
          "base_uri": "https://localhost:8080/"
        },
        "id": "E1nXoVTst6y0",
        "outputId": "a91ca604-f12c-4445-d6af-795313686b36"
      },
      "source": [
        "#Mostrar el valor 7 de lista3\n",
        "lista3[-3]\n",
        "lista3[4]"
      ],
      "execution_count": null,
      "outputs": [
        {
          "output_type": "execute_result",
          "data": {
            "text/plain": [
              "7"
            ]
          },
          "metadata": {
            "tags": []
          },
          "execution_count": 86
        }
      ]
    },
    {
      "cell_type": "code",
      "metadata": {
        "colab": {
          "base_uri": "https://localhost:8080/",
          "height": 35
        },
        "id": "717cZvxquTtu",
        "outputId": "6e2378f5-1c24-4e95-e926-829de7535fde"
      },
      "source": [
        "# Mostrar el 7 de lista\n",
        "lista[1][2]\n"
      ],
      "execution_count": null,
      "outputs": [
        {
          "output_type": "execute_result",
          "data": {
            "application/vnd.google.colaboratory.intrinsic+json": {
              "type": "string"
            },
            "text/plain": [
              "'lista'"
            ]
          },
          "metadata": {
            "tags": []
          },
          "execution_count": 94
        }
      ]
    },
    {
      "cell_type": "markdown",
      "metadata": {
        "id": "fzbW2GKTv0jh"
      },
      "source": [
        "## Ciclos"
      ]
    },
    {
      "cell_type": "markdown",
      "metadata": {
        "id": "Dcefkbs4W1Wj"
      },
      "source": [
        "### Ciclo for"
      ]
    },
    {
      "cell_type": "code",
      "metadata": {
        "colab": {
          "base_uri": "https://localhost:8080/"
        },
        "id": "ZWWGIB48wPmx",
        "outputId": "6b177007-cddd-42a4-8476-a56fdfa3d799"
      },
      "source": [
        "for i in range(5):\n",
        "  a = 2*i\n",
        "  print(a)\n",
        "print(\"fin\")\n",
        "a = 4\n"
      ],
      "execution_count": null,
      "outputs": [
        {
          "output_type": "stream",
          "text": [
            "0\n",
            "2\n",
            "4\n",
            "6\n",
            "8\n",
            "fin\n"
          ],
          "name": "stdout"
        }
      ]
    },
    {
      "cell_type": "code",
      "metadata": {
        "colab": {
          "base_uri": "https://localhost:8080/"
        },
        "id": "NRy-dOPJx94m",
        "outputId": "e22bdc82-9c7f-493b-8fb4-d937668d1914"
      },
      "source": [
        "v=0\n",
        "for i in range(5):\n",
        "  a = 2*i\n",
        "  print(a)\n",
        "  v += i\n",
        "  print(v)\n",
        "print(\"Hola\")\n",
        "\n"
      ],
      "execution_count": null,
      "outputs": [
        {
          "output_type": "stream",
          "text": [
            "0\n",
            "0\n",
            "2\n",
            "1\n",
            "4\n",
            "3\n",
            "6\n",
            "6\n",
            "8\n",
            "10\n",
            "Hola\n"
          ],
          "name": "stdout"
        }
      ]
    },
    {
      "cell_type": "code",
      "metadata": {
        "colab": {
          "base_uri": "https://localhost:8080/"
        },
        "id": "h3O8jVX-ZM2X",
        "outputId": "56e65479-e2a4-47e4-8f7e-2ddcd7e57251"
      },
      "source": [
        "lista = [1,2,3,4,5,6,7,8]\n",
        "len(lista)"
      ],
      "execution_count": null,
      "outputs": [
        {
          "output_type": "execute_result",
          "data": {
            "text/plain": [
              "8"
            ]
          },
          "metadata": {
            "tags": []
          },
          "execution_count": 15
        }
      ]
    },
    {
      "cell_type": "code",
      "metadata": {
        "colab": {
          "base_uri": "https://localhost:8080/"
        },
        "id": "_WIPtSpJZjlV",
        "outputId": "fa19db5c-2eb7-4608-d64a-4967e5ba3050"
      },
      "source": [
        "for p in lista:\n",
        "  a = 3*p\n",
        "  print(a)"
      ],
      "execution_count": null,
      "outputs": [
        {
          "output_type": "stream",
          "text": [
            "3\n",
            "6\n",
            "9\n",
            "12\n",
            "15\n",
            "18\n",
            "21\n",
            "24\n"
          ],
          "name": "stdout"
        }
      ]
    },
    {
      "cell_type": "code",
      "metadata": {
        "colab": {
          "base_uri": "https://localhost:8080/"
        },
        "id": "OpAOisTgZwXJ",
        "outputId": "13e04c28-c1a8-455f-ef23-32e6ba65de97"
      },
      "source": [
        "lista1 = [3,5,5,\"hola\", \"Adios\"]\n",
        "for i in lista1:\n",
        "  print(i)"
      ],
      "execution_count": null,
      "outputs": [
        {
          "output_type": "stream",
          "text": [
            "3\n",
            "5\n",
            "5\n",
            "hola\n",
            "Adios\n"
          ],
          "name": "stdout"
        }
      ]
    },
    {
      "cell_type": "code",
      "metadata": {
        "colab": {
          "base_uri": "https://localhost:8080/"
        },
        "id": "wMu5G3EMaXiH",
        "outputId": "299db625-ed35-48b5-bc1e-ee7c6a6e1c3c"
      },
      "source": [
        "palabra = \"Televisión\"\n",
        "for letra in palabra:\n",
        "  print(letra)"
      ],
      "execution_count": null,
      "outputs": [
        {
          "output_type": "stream",
          "text": [
            "T\n",
            "e\n",
            "l\n",
            "e\n",
            "v\n",
            "i\n",
            "s\n",
            "i\n",
            "ó\n",
            "n\n"
          ],
          "name": "stdout"
        }
      ]
    },
    {
      "cell_type": "code",
      "metadata": {
        "id": "R7WpoyTwa1dH"
      },
      "source": [
        "for i in lista:\n",
        "  print(i)"
      ],
      "execution_count": null,
      "outputs": []
    },
    {
      "cell_type": "markdown",
      "metadata": {
        "id": "4uHvig04b5VF"
      },
      "source": [
        "### Ciclo While"
      ]
    },
    {
      "cell_type": "code",
      "metadata": {
        "colab": {
          "base_uri": "https://localhost:8080/"
        },
        "id": "bDV_lCPkcHtW",
        "outputId": "b9aaee73-3f1e-4b65-de82-cd49a28557c8"
      },
      "source": [
        "j= 0\n",
        "suma= 0\n",
        "while j <= 5:\n",
        "  suma = suma + j\n",
        "  j = j + 1\n",
        "  print(suma)"
      ],
      "execution_count": null,
      "outputs": [
        {
          "output_type": "stream",
          "text": [
            "0\n",
            "1\n",
            "3\n",
            "6\n",
            "10\n",
            "15\n"
          ],
          "name": "stdout"
        }
      ]
    },
    {
      "cell_type": "code",
      "metadata": {
        "colab": {
          "base_uri": "https://localhost:8080/"
        },
        "id": "BUYpa4Tgd0K7",
        "outputId": "8275aa8b-6350-4b6c-a94c-b0a49c6eed7b"
      },
      "source": [
        "# Utilizar while para mostrar los resultados de la tabla de multiplicar del 3\n",
        "j=0\n",
        "multiplica = 0\n",
        "while j <= 10:\n",
        "  multiplica = 3 * j\n",
        "  j  = j + 1\n",
        "  print(multiplica)\n"
      ],
      "execution_count": null,
      "outputs": [
        {
          "output_type": "stream",
          "text": [
            "0\n",
            "3\n",
            "6\n",
            "9\n",
            "12\n",
            "15\n",
            "18\n",
            "21\n",
            "24\n",
            "27\n",
            "30\n"
          ],
          "name": "stdout"
        }
      ]
    },
    {
      "cell_type": "markdown",
      "metadata": {
        "id": "silZUx_uigiC"
      },
      "source": [
        "# Condicionales"
      ]
    },
    {
      "cell_type": "markdown",
      "metadata": {
        "id": "-bw2WabhijJV"
      },
      "source": [
        "## Condicional if"
      ]
    },
    {
      "cell_type": "code",
      "metadata": {
        "colab": {
          "base_uri": "https://localhost:8080/"
        },
        "id": "_vp-swvlil8v",
        "outputId": "8288ff18-bb05-4185-e13d-511e36568b1b"
      },
      "source": [
        "a = 6\n",
        "if a == 6:\n",
        "  print(\"a vale 6\")"
      ],
      "execution_count": null,
      "outputs": [
        {
          "output_type": "stream",
          "text": [
            "a vale 6\n"
          ],
          "name": "stdout"
        }
      ]
    },
    {
      "cell_type": "code",
      "metadata": {
        "colab": {
          "base_uri": "https://localhost:8080/"
        },
        "id": "vD7YDEIFjBvR",
        "outputId": "595145ea-21a8-4119-efdc-1c46cbf2b331"
      },
      "source": [
        "a == 6"
      ],
      "execution_count": null,
      "outputs": [
        {
          "output_type": "execute_result",
          "data": {
            "text/plain": [
              "True"
            ]
          },
          "metadata": {
            "tags": []
          },
          "execution_count": 2
        }
      ]
    },
    {
      "cell_type": "code",
      "metadata": {
        "colab": {
          "base_uri": "https://localhost:8080/"
        },
        "id": "nf17hAZ2jEjN",
        "outputId": "a6a71ee9-d996-437c-b326-dd1ec6f47ab4"
      },
      "source": [
        "a == 5"
      ],
      "execution_count": null,
      "outputs": [
        {
          "output_type": "execute_result",
          "data": {
            "text/plain": [
              "False"
            ]
          },
          "metadata": {
            "tags": []
          },
          "execution_count": 3
        }
      ]
    },
    {
      "cell_type": "code",
      "metadata": {
        "id": "8kKk7VwwjHSx"
      },
      "source": [
        "if a == 5:\n",
        "  print(\"a vale 6\")"
      ],
      "execution_count": null,
      "outputs": []
    },
    {
      "cell_type": "code",
      "metadata": {
        "colab": {
          "base_uri": "https://localhost:8080/"
        },
        "id": "1mTHuetyjcRt",
        "outputId": "bcd7fcca-81ac-40a7-eae0-dac0cefcd60e"
      },
      "source": [
        "print(a==5)\n",
        "print(a > 5)\n",
        "print(a < 5)\n",
        "print(a <= 5)\n"
      ],
      "execution_count": null,
      "outputs": [
        {
          "output_type": "stream",
          "text": [
            "False\n",
            "True\n",
            "False\n",
            "False\n"
          ],
          "name": "stdout"
        }
      ]
    },
    {
      "cell_type": "markdown",
      "metadata": {
        "id": "Gh3f9dXAkCAk"
      },
      "source": [
        "## Condicional else"
      ]
    },
    {
      "cell_type": "code",
      "metadata": {
        "colab": {
          "base_uri": "https://localhost:8080/"
        },
        "id": "T3_ZoVhokIO1",
        "outputId": "f5b42bf4-b85b-4c2d-ffa9-0a95912cca4f"
      },
      "source": [
        "a = 7\n",
        "if a == 6:\n",
        "  print(\"a vale 6\")\n",
        "else:\n",
        "  print(\"a no vale 6\")"
      ],
      "execution_count": null,
      "outputs": [
        {
          "output_type": "stream",
          "text": [
            "a no vale 6\n"
          ],
          "name": "stdout"
        }
      ]
    },
    {
      "cell_type": "code",
      "metadata": {
        "colab": {
          "base_uri": "https://localhost:8080/"
        },
        "id": "7fPmB_W3k8A9",
        "outputId": "7c802fd9-5a0f-4ebf-db3f-f52494afaf0f"
      },
      "source": [
        "## Mayoria de edad\n",
        "edad = 14\n",
        "if edad >= 18:\n",
        "  print(\"Es mayor de edad\")\n",
        "else:\n",
        "  print(\"Es menor de edad\")\n",
        "\n"
      ],
      "execution_count": null,
      "outputs": [
        {
          "output_type": "stream",
          "text": [
            "Es menor de edad\n"
          ],
          "name": "stdout"
        }
      ]
    },
    {
      "cell_type": "code",
      "metadata": {
        "colab": {
          "base_uri": "https://localhost:8080/"
        },
        "id": "MCBUL_-2mbJN",
        "outputId": "45755c70-7880-40ea-9fe9-1d2c444f6b20"
      },
      "source": [
        "edad = int(input(\"¿Cuántos años tienes?:  \"))\n",
        "if edad >= 18:\n",
        "  print(\"Eres mayor de edad\")\n",
        "else:\n",
        "  print(\"Eres menor de edad\")\n"
      ],
      "execution_count": null,
      "outputs": [
        {
          "output_type": "stream",
          "text": [
            "¿Cuántos años tienes?:  25\n",
            "Eres mayor de edad\n"
          ],
          "name": "stdout"
        }
      ]
    },
    {
      "cell_type": "markdown",
      "metadata": {
        "id": "AyZADaSfnP0y"
      },
      "source": [
        "# Funciones"
      ]
    },
    {
      "cell_type": "code",
      "metadata": {
        "id": "C06uSfFxnrf-"
      },
      "source": [
        "def mayor_edad(edad):\n",
        "  if edad >= 18:\n",
        "    print(\"Eres mayor de edad\")\n",
        "  else:\n",
        "    print(\"Eres menor de edad\")"
      ],
      "execution_count": null,
      "outputs": []
    },
    {
      "cell_type": "code",
      "metadata": {
        "colab": {
          "base_uri": "https://localhost:8080/"
        },
        "id": "4xfYtbJboNMO",
        "outputId": "1d86b115-1f4c-4c82-a460-da88507eacb1"
      },
      "source": [
        "mayor_edad(40)"
      ],
      "execution_count": null,
      "outputs": [
        {
          "output_type": "stream",
          "text": [
            "Eres mayor de edad\n"
          ],
          "name": "stdout"
        }
      ]
    },
    {
      "cell_type": "code",
      "metadata": {
        "colab": {
          "base_uri": "https://localhost:8080/"
        },
        "id": "KYTXtKitonQl",
        "outputId": "243c14f7-8849-4ebc-a450-e23cb852fbe4"
      },
      "source": [
        "mayor_edad(3)"
      ],
      "execution_count": null,
      "outputs": [
        {
          "output_type": "stream",
          "text": [
            "Eres menor de edad\n"
          ],
          "name": "stdout"
        }
      ]
    },
    {
      "cell_type": "code",
      "metadata": {
        "id": "xL3oOzGPpAia"
      },
      "source": [
        "def promedio(n1,n2):\n",
        "  prom = (n1 + n2 ) / 2\n",
        "  print(prom)"
      ],
      "execution_count": null,
      "outputs": []
    },
    {
      "cell_type": "code",
      "metadata": {
        "colab": {
          "base_uri": "https://localhost:8080/"
        },
        "id": "d-l8bbZepW06",
        "outputId": "ad679d66-fa75-4d70-f070-086b63ec2e05"
      },
      "source": [
        "promedio(4,6)"
      ],
      "execution_count": null,
      "outputs": [
        {
          "output_type": "stream",
          "text": [
            "5.0\n"
          ],
          "name": "stdout"
        }
      ]
    },
    {
      "cell_type": "code",
      "metadata": {
        "colab": {
          "base_uri": "https://localhost:8080/"
        },
        "id": "_XAbWZHLpoGC",
        "outputId": "b9e3314b-bf66-4299-c7f4-483c98113bf6"
      },
      "source": [
        "l = [1,2,4,6,8,9,2,3,4,67,12]\n",
        "len(l)"
      ],
      "execution_count": null,
      "outputs": [
        {
          "output_type": "execute_result",
          "data": {
            "text/plain": [
              "11"
            ]
          },
          "metadata": {
            "tags": []
          },
          "execution_count": 34
        }
      ]
    },
    {
      "cell_type": "code",
      "metadata": {
        "id": "xXL70BVRp2b4"
      },
      "source": [
        "def prom_l(lista):\n",
        "  s = sum(lista)\n",
        "  n = len(lista)\n",
        "  r = s / n\n",
        "  print(r)\n"
      ],
      "execution_count": null,
      "outputs": []
    },
    {
      "cell_type": "code",
      "metadata": {
        "colab": {
          "base_uri": "https://localhost:8080/"
        },
        "id": "v9NVyNp8qGZO",
        "outputId": "3159a895-34fd-41ed-fb7d-0928af4db0d1"
      },
      "source": [
        "prom_l(l)"
      ],
      "execution_count": null,
      "outputs": [
        {
          "output_type": "stream",
          "text": [
            "10.727272727272727\n"
          ],
          "name": "stdout"
        }
      ]
    },
    {
      "cell_type": "code",
      "metadata": {
        "colab": {
          "base_uri": "https://localhost:8080/"
        },
        "id": "qFWXFUDAqK5u",
        "outputId": "9113bb1c-e080-492a-b651-989168c1aa33"
      },
      "source": [
        "l1 =[1,2,3,4,5,6,7,8,9]\n",
        "prom_l(l1)"
      ],
      "execution_count": null,
      "outputs": [
        {
          "output_type": "stream",
          "text": [
            "5.0\n"
          ],
          "name": "stdout"
        }
      ]
    }
  ]
}