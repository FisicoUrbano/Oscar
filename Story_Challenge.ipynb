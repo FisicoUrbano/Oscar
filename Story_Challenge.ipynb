{
  "nbformat": 4,
  "nbformat_minor": 0,
  "metadata": {
    "colab": {
      "name": "Story_Challenge.ipynb",
      "provenance": [],
      "toc_visible": true,
      "authorship_tag": "ABX9TyMsoIPCIpmBEKRjUEOpyya0",
      "include_colab_link": true
    },
    "kernelspec": {
      "name": "python3",
      "display_name": "Python 3"
    },
    "language_info": {
      "name": "python"
    }
  },
  "cells": [
    {
      "cell_type": "markdown",
      "metadata": {
        "id": "view-in-github",
        "colab_type": "text"
      },
      "source": [
        "<a href=\"https://colab.research.google.com/github/FisicoUrbano/Oscar/blob/master/Story_Challenge.ipynb\" target=\"_parent\"><img src=\"https://colab.research.google.com/assets/colab-badge.svg\" alt=\"Open In Colab\"/></a>"
      ]
    },
    {
      "cell_type": "markdown",
      "metadata": {
        "id": "IB9nRo-3b6-S"
      },
      "source": [
        "# Stori Data Science Challenge\n",
        "\n",
        "By Oscar Córdoba Rodríguez //\n",
        "ocr@ciencias.unam.mx\n"
      ]
    },
    {
      "cell_type": "markdown",
      "metadata": {
        "id": "zuWsreCJcEz1"
      },
      "source": [
        "For this challenge we will use a fake credit card dataset that is attached as *df.csv* , which\n",
        "includes information from a [public Kaggle dataset](https://www.kaggle.com/arjunbhasin2013/ccdata) with three added fields: activated_date ,\n",
        "last_payment_date and fraud."
      ]
    },
    {
      "cell_type": "markdown",
      "metadata": {
        "id": "ZvS3ByJMfOzg"
      },
      "source": [
        "Before to ask de questions it's necessary upload the file and make a brevary analysis."
      ]
    },
    {
      "cell_type": "markdown",
      "metadata": {
        "id": "0ozKhs24o1ch"
      },
      "source": [
        "# Descrine the data"
      ]
    },
    {
      "cell_type": "code",
      "metadata": {
        "id": "N21f9F45okqL"
      },
      "source": [
        "import warnings\n",
        "warnings.filterwarnings(\"ignore\") # for the warnings about the versions libraries\n"
      ],
      "execution_count": 1,
      "outputs": []
    },
    {
      "cell_type": "code",
      "metadata": {
        "id": "tzYYp6oefpf2"
      },
      "source": [
        "# Import the libraries for data analysis\n",
        "import pandas as pd # manipulate de data\n",
        "import numpy as np # for any math function\n",
        "import matplotlib.pyplot as plt # graphs\n",
        "import seaborn as sns # graphs\n",
        "from datetime import datetime # date format\n",
        "# Import library for the model construction\n",
        "import imblearn # for the treatment the unbalanced \"fraud\" variable\n",
        "from imblearn.under_sampling import RandomUnderSampler # a random election for   \"fraud\" vairable\n",
        "\n",
        "import tensorflow as tf # for the creation of the RNN model\n",
        "from sklearn.model_selection import train_test_split # partition between train and test\n",
        "from sklearn.metrics import confusion_matrix,accuracy_score # matrix confusion\n",
        "# For ROC curve\n",
        "from sklearn import metrics\n",
        "from sklearn.metrics import confusion_matrix\n",
        "from sklearn.metrics import roc_curve\n",
        "from sklearn.metrics import roc_auc_score\n",
        "from sklearn.metrics import auc\n",
        "from sklearn.metrics import precision_recall_curve"
      ],
      "execution_count": 2,
      "outputs": []
    },
    {
      "cell_type": "code",
      "metadata": {
        "id": "8Fc1ss2YoPp_"
      },
      "source": [
        "df = pd.read_csv(\"/content/df.csv\") #read the file,"
      ],
      "execution_count": 3,
      "outputs": []
    },
    {
      "cell_type": "markdown",
      "metadata": {
        "id": "ZENapAYClyMk"
      },
      "source": [
        "#A view from the Dataframe"
      ]
    },
    {
      "cell_type": "code",
      "metadata": {
        "colab": {
          "base_uri": "https://localhost:8080/",
          "height": 224
        },
        "id": "CBuwCJEDo5wh",
        "outputId": "6786edac-5f42-4fc1-b73f-80dfd33d9a4e"
      },
      "source": [
        "# Show the first 5 rows for all the variables\n",
        "\n",
        "df.head()\n"
      ],
      "execution_count": 4,
      "outputs": [
        {
          "output_type": "execute_result",
          "data": {
            "text/html": [
              "<div>\n",
              "<style scoped>\n",
              "    .dataframe tbody tr th:only-of-type {\n",
              "        vertical-align: middle;\n",
              "    }\n",
              "\n",
              "    .dataframe tbody tr th {\n",
              "        vertical-align: top;\n",
              "    }\n",
              "\n",
              "    .dataframe thead th {\n",
              "        text-align: right;\n",
              "    }\n",
              "</style>\n",
              "<table border=\"1\" class=\"dataframe\">\n",
              "  <thead>\n",
              "    <tr style=\"text-align: right;\">\n",
              "      <th></th>\n",
              "      <th>cust_id</th>\n",
              "      <th>activated_date</th>\n",
              "      <th>last_payment_date</th>\n",
              "      <th>balance</th>\n",
              "      <th>balance_frequency</th>\n",
              "      <th>purchases</th>\n",
              "      <th>oneoff_purchases</th>\n",
              "      <th>installments_purchases</th>\n",
              "      <th>cash_advance</th>\n",
              "      <th>purchases_frequency</th>\n",
              "      <th>oneoff_purchases_frequency</th>\n",
              "      <th>purchases_installments_frequency</th>\n",
              "      <th>cash_advance_frequency</th>\n",
              "      <th>cash_advance_trx</th>\n",
              "      <th>purchases_trx</th>\n",
              "      <th>credit_limit</th>\n",
              "      <th>payments</th>\n",
              "      <th>minimum_payments</th>\n",
              "      <th>prc_full_payment</th>\n",
              "      <th>tenure</th>\n",
              "      <th>fraud</th>\n",
              "    </tr>\n",
              "  </thead>\n",
              "  <tbody>\n",
              "    <tr>\n",
              "      <th>0</th>\n",
              "      <td>C10001</td>\n",
              "      <td>06/10/2019</td>\n",
              "      <td>09/09/2020</td>\n",
              "      <td>40.900749</td>\n",
              "      <td>0.818182</td>\n",
              "      <td>95.40</td>\n",
              "      <td>0.00</td>\n",
              "      <td>95.4</td>\n",
              "      <td>0.000000</td>\n",
              "      <td>0.166667</td>\n",
              "      <td>0.000000</td>\n",
              "      <td>0.083333</td>\n",
              "      <td>0.000000</td>\n",
              "      <td>0</td>\n",
              "      <td>2</td>\n",
              "      <td>1000.0</td>\n",
              "      <td>201.802084</td>\n",
              "      <td>139.509787</td>\n",
              "      <td>0.000000</td>\n",
              "      <td>12</td>\n",
              "      <td>0</td>\n",
              "    </tr>\n",
              "    <tr>\n",
              "      <th>1</th>\n",
              "      <td>C10002</td>\n",
              "      <td>06/10/2019</td>\n",
              "      <td>04/07/2020</td>\n",
              "      <td>3202.467416</td>\n",
              "      <td>0.909091</td>\n",
              "      <td>0.00</td>\n",
              "      <td>0.00</td>\n",
              "      <td>0.0</td>\n",
              "      <td>6442.945483</td>\n",
              "      <td>0.000000</td>\n",
              "      <td>0.000000</td>\n",
              "      <td>0.000000</td>\n",
              "      <td>0.250000</td>\n",
              "      <td>4</td>\n",
              "      <td>0</td>\n",
              "      <td>7000.0</td>\n",
              "      <td>4103.032597</td>\n",
              "      <td>1072.340217</td>\n",
              "      <td>0.222222</td>\n",
              "      <td>12</td>\n",
              "      <td>0</td>\n",
              "    </tr>\n",
              "    <tr>\n",
              "      <th>2</th>\n",
              "      <td>C10003</td>\n",
              "      <td>06/10/2019</td>\n",
              "      <td>17/09/2020</td>\n",
              "      <td>2495.148862</td>\n",
              "      <td>1.000000</td>\n",
              "      <td>773.17</td>\n",
              "      <td>773.17</td>\n",
              "      <td>0.0</td>\n",
              "      <td>0.000000</td>\n",
              "      <td>1.000000</td>\n",
              "      <td>1.000000</td>\n",
              "      <td>0.000000</td>\n",
              "      <td>0.000000</td>\n",
              "      <td>0</td>\n",
              "      <td>12</td>\n",
              "      <td>7500.0</td>\n",
              "      <td>622.066742</td>\n",
              "      <td>627.284787</td>\n",
              "      <td>0.000000</td>\n",
              "      <td>12</td>\n",
              "      <td>0</td>\n",
              "    </tr>\n",
              "    <tr>\n",
              "      <th>3</th>\n",
              "      <td>C10004</td>\n",
              "      <td>06/10/2019</td>\n",
              "      <td>24/08/2020</td>\n",
              "      <td>1666.670542</td>\n",
              "      <td>0.636364</td>\n",
              "      <td>1499.00</td>\n",
              "      <td>1499.00</td>\n",
              "      <td>0.0</td>\n",
              "      <td>205.788017</td>\n",
              "      <td>0.083333</td>\n",
              "      <td>0.083333</td>\n",
              "      <td>0.000000</td>\n",
              "      <td>0.083333</td>\n",
              "      <td>1</td>\n",
              "      <td>1</td>\n",
              "      <td>7500.0</td>\n",
              "      <td>0.000000</td>\n",
              "      <td>NaN</td>\n",
              "      <td>0.000000</td>\n",
              "      <td>12</td>\n",
              "      <td>0</td>\n",
              "    </tr>\n",
              "    <tr>\n",
              "      <th>4</th>\n",
              "      <td>C10005</td>\n",
              "      <td>06/10/2019</td>\n",
              "      <td>20/10/2020</td>\n",
              "      <td>817.714335</td>\n",
              "      <td>1.000000</td>\n",
              "      <td>16.00</td>\n",
              "      <td>16.00</td>\n",
              "      <td>0.0</td>\n",
              "      <td>0.000000</td>\n",
              "      <td>0.083333</td>\n",
              "      <td>0.083333</td>\n",
              "      <td>0.000000</td>\n",
              "      <td>0.000000</td>\n",
              "      <td>0</td>\n",
              "      <td>1</td>\n",
              "      <td>1200.0</td>\n",
              "      <td>678.334763</td>\n",
              "      <td>244.791237</td>\n",
              "      <td>0.000000</td>\n",
              "      <td>12</td>\n",
              "      <td>0</td>\n",
              "    </tr>\n",
              "  </tbody>\n",
              "</table>\n",
              "</div>"
            ],
            "text/plain": [
              "  cust_id activated_date last_payment_date  ...  prc_full_payment  tenure  fraud\n",
              "0  C10001     06/10/2019        09/09/2020  ...          0.000000      12      0\n",
              "1  C10002     06/10/2019        04/07/2020  ...          0.222222      12      0\n",
              "2  C10003     06/10/2019        17/09/2020  ...          0.000000      12      0\n",
              "3  C10004     06/10/2019        24/08/2020  ...          0.000000      12      0\n",
              "4  C10005     06/10/2019        20/10/2020  ...          0.000000      12      0\n",
              "\n",
              "[5 rows x 21 columns]"
            ]
          },
          "metadata": {
            "tags": []
          },
          "execution_count": 4
        }
      ]
    },
    {
      "cell_type": "code",
      "metadata": {
        "colab": {
          "base_uri": "https://localhost:8080/"
        },
        "id": "zFdKsOekpisI",
        "outputId": "b54c5604-ddc0-4ec2-cf4e-04609ff75680"
      },
      "source": [
        "# Dimension of the Data Frame\n",
        "df.shape"
      ],
      "execution_count": 206,
      "outputs": [
        {
          "output_type": "execute_result",
          "data": {
            "text/plain": [
              "(8950, 21)"
            ]
          },
          "metadata": {
            "tags": []
          },
          "execution_count": 206
        }
      ]
    },
    {
      "cell_type": "code",
      "metadata": {
        "colab": {
          "base_uri": "https://localhost:8080/"
        },
        "id": "rYb3T2H5pkuN",
        "outputId": "345046c5-651b-470e-e712-f7e009f743a6"
      },
      "source": [
        "# Types of columns\n",
        "df.dtypes"
      ],
      "execution_count": 207,
      "outputs": [
        {
          "output_type": "execute_result",
          "data": {
            "text/plain": [
              "cust_id                              object\n",
              "activated_date                       object\n",
              "last_payment_date                    object\n",
              "balance                             float64\n",
              "balance_frequency                   float64\n",
              "purchases                           float64\n",
              "oneoff_purchases                    float64\n",
              "installments_purchases              float64\n",
              "cash_advance                        float64\n",
              "purchases_frequency                 float64\n",
              "oneoff_purchases_frequency          float64\n",
              "purchases_installments_frequency    float64\n",
              "cash_advance_frequency              float64\n",
              "cash_advance_trx                      int64\n",
              "purchases_trx                         int64\n",
              "credit_limit                        float64\n",
              "payments                            float64\n",
              "minimum_payments                    float64\n",
              "prc_full_payment                    float64\n",
              "tenure                                int64\n",
              "fraud                                 int64\n",
              "dtype: object"
            ]
          },
          "metadata": {
            "tags": []
          },
          "execution_count": 207
        }
      ]
    },
    {
      "cell_type": "code",
      "metadata": {
        "colab": {
          "base_uri": "https://localhost:8080/",
          "height": 317
        },
        "id": "QjQ2tB5YzXnE",
        "outputId": "ce68a96c-8614-44aa-8a43-c10aa1323c18"
      },
      "source": [
        "# Resume statistic, without any irregularity.\n",
        "df.describe()"
      ],
      "execution_count": 155,
      "outputs": [
        {
          "output_type": "execute_result",
          "data": {
            "text/html": [
              "<div>\n",
              "<style scoped>\n",
              "    .dataframe tbody tr th:only-of-type {\n",
              "        vertical-align: middle;\n",
              "    }\n",
              "\n",
              "    .dataframe tbody tr th {\n",
              "        vertical-align: top;\n",
              "    }\n",
              "\n",
              "    .dataframe thead th {\n",
              "        text-align: right;\n",
              "    }\n",
              "</style>\n",
              "<table border=\"1\" class=\"dataframe\">\n",
              "  <thead>\n",
              "    <tr style=\"text-align: right;\">\n",
              "      <th></th>\n",
              "      <th>balance</th>\n",
              "      <th>balance_frequency</th>\n",
              "      <th>purchases</th>\n",
              "      <th>oneoff_purchases</th>\n",
              "      <th>installments_purchases</th>\n",
              "      <th>cash_advance</th>\n",
              "      <th>purchases_frequency</th>\n",
              "      <th>oneoff_purchases_frequency</th>\n",
              "      <th>purchases_installments_frequency</th>\n",
              "      <th>cash_advance_frequency</th>\n",
              "      <th>cash_advance_trx</th>\n",
              "      <th>purchases_trx</th>\n",
              "      <th>credit_limit</th>\n",
              "      <th>payments</th>\n",
              "      <th>minimum_payments</th>\n",
              "      <th>prc_full_payment</th>\n",
              "      <th>tenure</th>\n",
              "      <th>fraud</th>\n",
              "    </tr>\n",
              "  </thead>\n",
              "  <tbody>\n",
              "    <tr>\n",
              "      <th>count</th>\n",
              "      <td>8950.000000</td>\n",
              "      <td>8950.000000</td>\n",
              "      <td>8950.000000</td>\n",
              "      <td>8950.000000</td>\n",
              "      <td>8950.000000</td>\n",
              "      <td>8950.000000</td>\n",
              "      <td>8950.000000</td>\n",
              "      <td>8950.000000</td>\n",
              "      <td>8950.000000</td>\n",
              "      <td>8950.000000</td>\n",
              "      <td>8950.000000</td>\n",
              "      <td>8950.000000</td>\n",
              "      <td>8950.000000</td>\n",
              "      <td>8950.000000</td>\n",
              "      <td>8950.000000</td>\n",
              "      <td>8950.000000</td>\n",
              "      <td>8950.000000</td>\n",
              "      <td>8950.000000</td>\n",
              "    </tr>\n",
              "    <tr>\n",
              "      <th>mean</th>\n",
              "      <td>1564.612804</td>\n",
              "      <td>0.877271</td>\n",
              "      <td>1003.204834</td>\n",
              "      <td>592.437371</td>\n",
              "      <td>411.067645</td>\n",
              "      <td>966.729700</td>\n",
              "      <td>0.490351</td>\n",
              "      <td>0.202458</td>\n",
              "      <td>0.364437</td>\n",
              "      <td>0.135144</td>\n",
              "      <td>3.248827</td>\n",
              "      <td>14.709832</td>\n",
              "      <td>4494.449450</td>\n",
              "      <td>1733.143852</td>\n",
              "      <td>864.173246</td>\n",
              "      <td>0.153715</td>\n",
              "      <td>11.517318</td>\n",
              "      <td>0.007821</td>\n",
              "    </tr>\n",
              "    <tr>\n",
              "      <th>std</th>\n",
              "      <td>2081.502999</td>\n",
              "      <td>0.236904</td>\n",
              "      <td>2136.634782</td>\n",
              "      <td>1659.887917</td>\n",
              "      <td>904.338115</td>\n",
              "      <td>2089.417935</td>\n",
              "      <td>0.401371</td>\n",
              "      <td>0.298336</td>\n",
              "      <td>0.397448</td>\n",
              "      <td>0.200121</td>\n",
              "      <td>6.824647</td>\n",
              "      <td>24.857649</td>\n",
              "      <td>3638.612411</td>\n",
              "      <td>2895.063757</td>\n",
              "      <td>2330.499186</td>\n",
              "      <td>0.292499</td>\n",
              "      <td>1.338331</td>\n",
              "      <td>0.088096</td>\n",
              "    </tr>\n",
              "    <tr>\n",
              "      <th>min</th>\n",
              "      <td>0.000000</td>\n",
              "      <td>0.000000</td>\n",
              "      <td>0.000000</td>\n",
              "      <td>0.000000</td>\n",
              "      <td>0.000000</td>\n",
              "      <td>0.000000</td>\n",
              "      <td>0.000000</td>\n",
              "      <td>0.000000</td>\n",
              "      <td>0.000000</td>\n",
              "      <td>0.000000</td>\n",
              "      <td>0.000000</td>\n",
              "      <td>0.000000</td>\n",
              "      <td>50.000000</td>\n",
              "      <td>0.000000</td>\n",
              "      <td>0.019163</td>\n",
              "      <td>0.000000</td>\n",
              "      <td>6.000000</td>\n",
              "      <td>0.000000</td>\n",
              "    </tr>\n",
              "    <tr>\n",
              "      <th>25%</th>\n",
              "      <td>128.281915</td>\n",
              "      <td>0.888889</td>\n",
              "      <td>39.635000</td>\n",
              "      <td>0.000000</td>\n",
              "      <td>0.000000</td>\n",
              "      <td>0.000000</td>\n",
              "      <td>0.083333</td>\n",
              "      <td>0.000000</td>\n",
              "      <td>0.000000</td>\n",
              "      <td>0.000000</td>\n",
              "      <td>0.000000</td>\n",
              "      <td>1.000000</td>\n",
              "      <td>1600.000000</td>\n",
              "      <td>383.276166</td>\n",
              "      <td>170.877046</td>\n",
              "      <td>0.000000</td>\n",
              "      <td>12.000000</td>\n",
              "      <td>0.000000</td>\n",
              "    </tr>\n",
              "    <tr>\n",
              "      <th>50%</th>\n",
              "      <td>873.942013</td>\n",
              "      <td>1.000000</td>\n",
              "      <td>361.280000</td>\n",
              "      <td>38.000000</td>\n",
              "      <td>89.000000</td>\n",
              "      <td>0.000000</td>\n",
              "      <td>0.500000</td>\n",
              "      <td>0.083333</td>\n",
              "      <td>0.166667</td>\n",
              "      <td>0.000000</td>\n",
              "      <td>0.000000</td>\n",
              "      <td>7.000000</td>\n",
              "      <td>3000.000000</td>\n",
              "      <td>856.901546</td>\n",
              "      <td>335.694582</td>\n",
              "      <td>0.000000</td>\n",
              "      <td>12.000000</td>\n",
              "      <td>0.000000</td>\n",
              "    </tr>\n",
              "    <tr>\n",
              "      <th>75%</th>\n",
              "      <td>2054.140036</td>\n",
              "      <td>1.000000</td>\n",
              "      <td>1110.130000</td>\n",
              "      <td>577.405000</td>\n",
              "      <td>468.637500</td>\n",
              "      <td>1096.905312</td>\n",
              "      <td>0.916667</td>\n",
              "      <td>0.300000</td>\n",
              "      <td>0.750000</td>\n",
              "      <td>0.222222</td>\n",
              "      <td>4.000000</td>\n",
              "      <td>17.000000</td>\n",
              "      <td>6500.000000</td>\n",
              "      <td>1901.134317</td>\n",
              "      <td>864.173246</td>\n",
              "      <td>0.142857</td>\n",
              "      <td>12.000000</td>\n",
              "      <td>0.000000</td>\n",
              "    </tr>\n",
              "    <tr>\n",
              "      <th>max</th>\n",
              "      <td>19043.138560</td>\n",
              "      <td>1.000000</td>\n",
              "      <td>49039.570000</td>\n",
              "      <td>40761.250000</td>\n",
              "      <td>22500.000000</td>\n",
              "      <td>47137.211760</td>\n",
              "      <td>1.000000</td>\n",
              "      <td>1.000000</td>\n",
              "      <td>1.000000</td>\n",
              "      <td>1.500000</td>\n",
              "      <td>123.000000</td>\n",
              "      <td>358.000000</td>\n",
              "      <td>30000.000000</td>\n",
              "      <td>50721.483360</td>\n",
              "      <td>76406.207520</td>\n",
              "      <td>1.000000</td>\n",
              "      <td>12.000000</td>\n",
              "      <td>1.000000</td>\n",
              "    </tr>\n",
              "  </tbody>\n",
              "</table>\n",
              "</div>"
            ],
            "text/plain": [
              "            balance  balance_frequency  ...       tenure        fraud\n",
              "count   8950.000000        8950.000000  ...  8950.000000  8950.000000\n",
              "mean    1564.612804           0.877271  ...    11.517318     0.007821\n",
              "std     2081.502999           0.236904  ...     1.338331     0.088096\n",
              "min        0.000000           0.000000  ...     6.000000     0.000000\n",
              "25%      128.281915           0.888889  ...    12.000000     0.000000\n",
              "50%      873.942013           1.000000  ...    12.000000     0.000000\n",
              "75%     2054.140036           1.000000  ...    12.000000     0.000000\n",
              "max    19043.138560           1.000000  ...    12.000000     1.000000\n",
              "\n",
              "[8 rows x 18 columns]"
            ]
          },
          "metadata": {
            "tags": []
          },
          "execution_count": 155
        }
      ]
    },
    {
      "cell_type": "code",
      "metadata": {
        "colab": {
          "base_uri": "https://localhost:8080/"
        },
        "id": "GzUs-V1Bpq9K",
        "outputId": "77ad78b5-551e-4996-83c4-f007251c54bf"
      },
      "source": [
        "# How many NaN have the columns\n",
        "df.isnull().sum()"
      ],
      "execution_count": 275,
      "outputs": [
        {
          "output_type": "execute_result",
          "data": {
            "text/plain": [
              "cust_id                               0\n",
              "activated_date                       13\n",
              "last_payment_date                     9\n",
              "balance                               2\n",
              "balance_frequency                     0\n",
              "purchases                             0\n",
              "oneoff_purchases                      0\n",
              "installments_purchases                0\n",
              "cash_advance                        112\n",
              "purchases_frequency                   0\n",
              "oneoff_purchases_frequency            0\n",
              "purchases_installments_frequency      0\n",
              "cash_advance_frequency                0\n",
              "cash_advance_trx                      0\n",
              "purchases_trx                         0\n",
              "credit_limit                          1\n",
              "payments                              0\n",
              "minimum_payments                    321\n",
              "prc_full_payment                      0\n",
              "tenure                                0\n",
              "fraud                                 0\n",
              "dtype: int64"
            ]
          },
          "metadata": {
            "tags": []
          },
          "execution_count": 275
        }
      ]
    },
    {
      "cell_type": "markdown",
      "metadata": {
        "id": "PmTx-D4qpssz"
      },
      "source": [
        "This file haves a 21 vairables and 8950 rows. Actually in the file there are 22 vairables but the first column is just a enumerate row and was eliminate before upload the file.\n",
        "There are 3 vaiarables non numeric: customer's id, activated_date and last_payment_date.\n",
        "The data frame has a 6 vairables with missing values. Is necessary fill these cells with the convenient values.\n",
        "\n"
      ]
    },
    {
      "cell_type": "code",
      "metadata": {
        "id": "2Xm_Sk-ptsTY"
      },
      "source": [
        "# The Data Frame is sort for the id. So, the activate date for a id is the same day or simliar (by days) with de up and down rows.\n",
        "# Then, the miss values are fill with de same date that the previous id.\n",
        "df.activated_date.fillna(method='bfill',inplace=True)\n",
        "df.last_payment_date.fillna(method='bfill',inplace=True)\n",
        "\n",
        "# For cash_advance was replaced by zero\n",
        "df.cash_advance.fillna(value=0,inplace=True)\n",
        "\n",
        "#For balance, credit_limit, minimum_payments were filled with the\n",
        "df.balance.fillna(df.balance.mean(), inplace=True)\n",
        "df.minimum_payments.fillna(df.minimum_payments.mean(), inplace=True)\n",
        "df.credit_limit.fillna(df.credit_limit.mean(), inplace=True)"
      ],
      "execution_count": 5,
      "outputs": []
    },
    {
      "cell_type": "code",
      "metadata": {
        "colab": {
          "base_uri": "https://localhost:8080/"
        },
        "id": "EoGNEWoH3ufW",
        "outputId": "aa426d38-44a6-4246-e2b4-c67a82cb180d"
      },
      "source": [
        "#Now, there are no missing values\n",
        "df.isnull().sum()"
      ],
      "execution_count": 210,
      "outputs": [
        {
          "output_type": "execute_result",
          "data": {
            "text/plain": [
              "cust_id                             0\n",
              "activated_date                      0\n",
              "last_payment_date                   0\n",
              "balance                             0\n",
              "balance_frequency                   0\n",
              "purchases                           0\n",
              "oneoff_purchases                    0\n",
              "installments_purchases              0\n",
              "cash_advance                        0\n",
              "purchases_frequency                 0\n",
              "oneoff_purchases_frequency          0\n",
              "purchases_installments_frequency    0\n",
              "cash_advance_frequency              0\n",
              "cash_advance_trx                    0\n",
              "purchases_trx                       0\n",
              "credit_limit                        0\n",
              "payments                            0\n",
              "minimum_payments                    0\n",
              "prc_full_payment                    0\n",
              "tenure                              0\n",
              "fraud                               0\n",
              "dtype: int64"
            ]
          },
          "metadata": {
            "tags": []
          },
          "execution_count": 210
        }
      ]
    },
    {
      "cell_type": "markdown",
      "metadata": {
        "id": "Zp53rcdudzy6"
      },
      "source": [
        "# Question 1"
      ]
    },
    {
      "cell_type": "code",
      "metadata": {
        "id": "IaqA6MyMYiOg"
      },
      "source": [
        "df1 = df # take de data frame for questioin 1"
      ],
      "execution_count": 277,
      "outputs": []
    },
    {
      "cell_type": "markdown",
      "metadata": {
        "id": "VK3rpOaTeDGP"
      },
      "source": [
        "## 1.1  Plot an histogram of the balance amount for all the customers."
      ]
    },
    {
      "cell_type": "code",
      "metadata": {
        "colab": {
          "base_uri": "https://localhost:8080/",
          "height": 402
        },
        "id": "ZlgyISbheYwd",
        "outputId": "4f16cb74-36b4-49e4-b255-03b1865537ae"
      },
      "source": [
        "sns.displot(df1.balance,bins= 30,kde=False) # Histogram for balance variable\n",
        "#plt.figure(figsize=(10,5), fonts)\n",
        "plt.title('Balance Histogram')\n",
        "plt.xlabel('Balance')\n"
      ],
      "execution_count": 278,
      "outputs": [
        {
          "output_type": "execute_result",
          "data": {
            "text/plain": [
              "Text(0.5, 6.79999999999999, 'Balance')"
            ]
          },
          "metadata": {
            "tags": []
          },
          "execution_count": 278
        },
        {
          "output_type": "display_data",
          "data": {
            "image/png": "[encoded data removed]",
            "text/plain": [
              "<Figure size 360x360 with 1 Axes>"
            ]
          },
          "metadata": {
            "tags": [],
            "needs_background": "light"
          }
        }
      ]
    },
    {
      "cell_type": "markdown",
      "metadata": {
        "id": "Zhf-RVAwePOF"
      },
      "source": [
        "## 1.2 Report any structure you find and any hypotheses you have about that structure."
      ]
    },
    {
      "cell_type": "markdown",
      "metadata": {
        "id": "pUF_4cmp4ZXX"
      },
      "source": [
        "The histogram of balance variable shows a power law distribution. There are many customers with balance equal to zero and there are a little customers with high balance in yours credit count.\n"
      ]
    },
    {
      "cell_type": "markdown",
      "metadata": {
        "id": "VghiWX197fL-"
      },
      "source": [
        "The matter that the majority maintain the balance in zero is not intrinsic to the low use of the credit card. In fact the ids with most purchase frequency have a balance in zero."
      ]
    },
    {
      "cell_type": "code",
      "metadata": {
        "colab": {
          "base_uri": "https://localhost:8080/",
          "height": 386
        },
        "id": "8Tug0KLz4Yhk",
        "outputId": "a9af4213-b35e-4642-87fe-60b423c86be7"
      },
      "source": [
        "# Generating a classification for  the purchases_frequency ( High, Mid and Low).\n",
        "cond_p = [\n",
        "    (df1['purchases_frequency'] >= 0.66) ,\n",
        "    (df1['purchases_frequency'] >= 0.33) & (df1['purchases_frequency'] <0.66),\n",
        "    (df1['purchases_frequency'] <= 0.33)]\n",
        "scale_p= ['High', 'Mid', 'Low']\n",
        "df1['purchases_range'] = np.select(cond_p, scale_p, default='Not Specified')\n",
        "# Generating a histogram balance with purchase_frequency classification\n",
        "sns.displot(df1, x=\"balance\", hue=\"purchases_range\")\n",
        "plt.title('Balance Histogram by purchases_range )"
      ],
      "execution_count": 279,
      "outputs": [
        {
          "output_type": "execute_result",
          "data": {
            "text/plain": [
              "<seaborn.axisgrid.FacetGrid at 0x7faaaf568590>"
            ]
          },
          "metadata": {
            "tags": []
          },
          "execution_count": 279
        },
        {
          "output_type": "display_data",
          "data": {
            "image/png": "[encoded data removed]",
            "text/plain": [
              "<Figure size 453.25x360 with 1 Axes>"
            ]
          },
          "metadata": {
            "tags": [],
            "needs_background": "light"
          }
        }
      ]
    },
    {
      "cell_type": "markdown",
      "metadata": {
        "id": "KrYzUen9eSJo"
      },
      "source": [
        "\n",
        "## 1.3 Report mean and median balance, grouped by year and month of activated_date .\n",
        "\n",
        "\n"
      ]
    },
    {
      "cell_type": "code",
      "metadata": {
        "id": "0gpGSwBz8m3b"
      },
      "source": [
        "# Create the variables year and moth for activated_date\n",
        "df1['year_activate'] = df1['activated_date'].astype(str).str[6:10]\n",
        "df1['month_activate'] = df1['activated_date'].astype(str).str[3:5]\n",
        "# Now, the data frame is group by year and month for activated_date and the mean and median are calculated.\n",
        "df1_1=df1.groupby(['year_activate','month_activate']).balance.agg({ 'mean', 'median'})\n"
      ],
      "execution_count": 280,
      "outputs": []
    },
    {
      "cell_type": "code",
      "metadata": {
        "id": "gP-TASvf_DwR"
      },
      "source": [
        "# Rename columns\n",
        "df1_2=df1_1.rename(index=str, columns={\"mean\": \"mean_balance\", \"median\": \"median_balance\"})"
      ],
      "execution_count": 281,
      "outputs": []
    },
    {
      "cell_type": "code",
      "metadata": {
        "colab": {
          "base_uri": "https://localhost:8080/",
          "height": 390
        },
        "id": "ffhVF3EqAF4k",
        "outputId": "b21c9cb4-045a-4a9d-d86b-57055f77db2d"
      },
      "source": [
        "#Report\n",
        "df1_2"
      ],
      "execution_count": 282,
      "outputs": [
        {
          "output_type": "execute_result",
          "data": {
            "text/html": [
              "<div>\n",
              "<style scoped>\n",
              "    .dataframe tbody tr th:only-of-type {\n",
              "        vertical-align: middle;\n",
              "    }\n",
              "\n",
              "    .dataframe tbody tr th {\n",
              "        vertical-align: top;\n",
              "    }\n",
              "\n",
              "    .dataframe thead th {\n",
              "        text-align: right;\n",
              "    }\n",
              "</style>\n",
              "<table border=\"1\" class=\"dataframe\">\n",
              "  <thead>\n",
              "    <tr style=\"text-align: right;\">\n",
              "      <th></th>\n",
              "      <th></th>\n",
              "      <th>mean_balance</th>\n",
              "      <th>median_balance</th>\n",
              "    </tr>\n",
              "    <tr>\n",
              "      <th>year_activate</th>\n",
              "      <th>month_activate</th>\n",
              "      <th></th>\n",
              "      <th></th>\n",
              "    </tr>\n",
              "  </thead>\n",
              "  <tbody>\n",
              "    <tr>\n",
              "      <th rowspan=\"3\" valign=\"top\">2019</th>\n",
              "      <th>10</th>\n",
              "      <td>2482.234166</td>\n",
              "      <td>1524.409377</td>\n",
              "    </tr>\n",
              "    <tr>\n",
              "      <th>11</th>\n",
              "      <td>1846.847082</td>\n",
              "      <td>1081.065726</td>\n",
              "    </tr>\n",
              "    <tr>\n",
              "      <th>12</th>\n",
              "      <td>2016.605538</td>\n",
              "      <td>1167.863521</td>\n",
              "    </tr>\n",
              "    <tr>\n",
              "      <th rowspan=\"7\" valign=\"top\">2020</th>\n",
              "      <th>01</th>\n",
              "      <td>1853.211613</td>\n",
              "      <td>1175.749847</td>\n",
              "    </tr>\n",
              "    <tr>\n",
              "      <th>02</th>\n",
              "      <td>1744.756667</td>\n",
              "      <td>994.841733</td>\n",
              "    </tr>\n",
              "    <tr>\n",
              "      <th>03</th>\n",
              "      <td>1553.261113</td>\n",
              "      <td>828.954823</td>\n",
              "    </tr>\n",
              "    <tr>\n",
              "      <th>04</th>\n",
              "      <td>1487.733269</td>\n",
              "      <td>910.141912</td>\n",
              "    </tr>\n",
              "    <tr>\n",
              "      <th>05</th>\n",
              "      <td>1214.333732</td>\n",
              "      <td>734.557681</td>\n",
              "    </tr>\n",
              "    <tr>\n",
              "      <th>06</th>\n",
              "      <td>939.789358</td>\n",
              "      <td>475.265493</td>\n",
              "    </tr>\n",
              "    <tr>\n",
              "      <th>07</th>\n",
              "      <td>649.151531</td>\n",
              "      <td>221.203759</td>\n",
              "    </tr>\n",
              "  </tbody>\n",
              "</table>\n",
              "</div>"
            ],
            "text/plain": [
              "                              mean_balance  median_balance\n",
              "year_activate month_activate                              \n",
              "2019          10               2482.234166     1524.409377\n",
              "              11               1846.847082     1081.065726\n",
              "              12               2016.605538     1167.863521\n",
              "2020          01               1853.211613     1175.749847\n",
              "              02               1744.756667      994.841733\n",
              "              03               1553.261113      828.954823\n",
              "              04               1487.733269      910.141912\n",
              "              05               1214.333732      734.557681\n",
              "              06                939.789358      475.265493\n",
              "              07                649.151531      221.203759"
            ]
          },
          "metadata": {
            "tags": []
          },
          "execution_count": 282
        }
      ]
    },
    {
      "cell_type": "markdown",
      "metadata": {
        "id": "UnRUeIGXefPU"
      },
      "source": [
        "\n",
        "# Question 2\n"
      ]
    },
    {
      "cell_type": "markdown",
      "metadata": {
        "id": "Mq7-XjGselXk"
      },
      "source": [
        "## 2.1 Report in a table the following information for customers who activated their account andmade their last payment during 2020: cust_id (excluding letters), activated_date (in format YYYY-MM), last_payment_date (in format YYYY-MM-DD), cash_advance , credit_limit , and a calculated field of cash_advance as a percentage of credit_limit ."
      ]
    },
    {
      "cell_type": "code",
      "metadata": {
        "id": "mY1Wl_nZFRAU"
      },
      "source": [
        "df2 = df # Use a new data frame"
      ],
      "execution_count": 283,
      "outputs": []
    },
    {
      "cell_type": "code",
      "metadata": {
        "id": "_IJwyHeCE1gL"
      },
      "source": [
        "# first change the format for cust_id, activated_date and ast_payment_date\n",
        "\n",
        "# cust_id\n",
        "df2['cust_id1'] = df2['cust_id'].astype(str).str[1:6] # cuts_id only numbers\n",
        "\n",
        "# activated_date\n",
        "df2['act_dte1']=pd.to_datetime(df['activated_date']) # change format from ddmmyyy to yyyymmdd\n",
        "df2['act_dte'] = df['act_dte1'].dt.strftime('%Y-%m') # take only y and m\n",
        "# last_payment_date\n",
        "df2['lpyt_dte1']=pd.to_datetime(df['last_payment_date']) # has format dd/mm/YYY\n",
        "df2['lpyt_dte'] = df['lpyt_dte1'].dt.strftime('%Y-%m-%d')\n",
        "\n"
      ],
      "execution_count": 284,
      "outputs": []
    },
    {
      "cell_type": "markdown",
      "metadata": {
        "id": "rtiwGobaKjUt"
      },
      "source": [
        "Now now its necessary report the customers who activated their account and made their last payment during 2020. \n",
        "The customer that activated their account in 2019 coud made paymantes in 2020 but it is not part of the requested group, and no exist customer that activated their acount un 2020 and realizaded a payment in 2019.\n",
        "Therefore,   was selected  activated_date = 2020. "
      ]
    },
    {
      "cell_type": "code",
      "metadata": {
        "id": "LW5rJrJML0wR"
      },
      "source": [
        "df2_1 = df2['year_activate'] == \"2020\"\n",
        "df2_2 = df2.loc[df2_1] # Filter 2020\n"
      ],
      "execution_count": 285,
      "outputs": []
    },
    {
      "cell_type": "code",
      "metadata": {
        "id": "vfrdOuX-MBsU"
      },
      "source": [
        "# Creating a calculated field of cash_advance as a percentage of credit_limit \n",
        "df2_2['percentage_credit_limit'] = df2_2['cash_advance'] / df2_2['credit_limit']\n"
      ],
      "execution_count": 286,
      "outputs": []
    },
    {
      "cell_type": "code",
      "metadata": {
        "id": "Sqwl6xsdNW5J"
      },
      "source": [
        "# Selections of variables\n",
        "df2_3=df2_2[['cust_id1','act_dte1','lpyt_dte','cash_advance','credit_limit','percentage_credit_limit']]\n",
        "\n"
      ],
      "execution_count": 287,
      "outputs": []
    },
    {
      "cell_type": "code",
      "metadata": {
        "id": "IDvDMn5kOqpA"
      },
      "source": [
        " #Rename columns\n",
        "df2_3=df2_3.rename(index=str, columns={\"cust_id1\": \"cust_id\", \"act_dte1\": \"activated_date\",\"lpyt_dte\": \"last_payment_date\"})"
      ],
      "execution_count": 288,
      "outputs": []
    },
    {
      "cell_type": "code",
      "metadata": {
        "colab": {
          "base_uri": "https://localhost:8080/",
          "height": 419
        },
        "id": "o7hteEwyO_ax",
        "outputId": "fbeb28aa-6207-4659-dacb-4341d5025a16"
      },
      "source": [
        "# Result\n",
        "df2_3"
      ],
      "execution_count": 289,
      "outputs": [
        {
          "output_type": "execute_result",
          "data": {
            "text/html": [
              "<div>\n",
              "<style scoped>\n",
              "    .dataframe tbody tr th:only-of-type {\n",
              "        vertical-align: middle;\n",
              "    }\n",
              "\n",
              "    .dataframe tbody tr th {\n",
              "        vertical-align: top;\n",
              "    }\n",
              "\n",
              "    .dataframe thead th {\n",
              "        text-align: right;\n",
              "    }\n",
              "</style>\n",
              "<table border=\"1\" class=\"dataframe\">\n",
              "  <thead>\n",
              "    <tr style=\"text-align: right;\">\n",
              "      <th></th>\n",
              "      <th>cust_id</th>\n",
              "      <th>activated_date</th>\n",
              "      <th>last_payment_date</th>\n",
              "      <th>cash_advance</th>\n",
              "      <th>credit_limit</th>\n",
              "      <th>percentage_credit_limit</th>\n",
              "    </tr>\n",
              "  </thead>\n",
              "  <tbody>\n",
              "    <tr>\n",
              "      <th>2633</th>\n",
              "      <td>12709</td>\n",
              "      <td>2020-01-01</td>\n",
              "      <td>2020-08-05</td>\n",
              "      <td>2431.292076</td>\n",
              "      <td>8000.0</td>\n",
              "      <td>0.303912</td>\n",
              "    </tr>\n",
              "    <tr>\n",
              "      <th>2634</th>\n",
              "      <td>12710</td>\n",
              "      <td>2020-01-01</td>\n",
              "      <td>2020-05-26</td>\n",
              "      <td>0.000000</td>\n",
              "      <td>2000.0</td>\n",
              "      <td>0.000000</td>\n",
              "    </tr>\n",
              "    <tr>\n",
              "      <th>2635</th>\n",
              "      <td>12712</td>\n",
              "      <td>2020-01-01</td>\n",
              "      <td>2020-10-20</td>\n",
              "      <td>0.000000</td>\n",
              "      <td>3000.0</td>\n",
              "      <td>0.000000</td>\n",
              "    </tr>\n",
              "    <tr>\n",
              "      <th>2636</th>\n",
              "      <td>12713</td>\n",
              "      <td>2020-01-01</td>\n",
              "      <td>2020-08-22</td>\n",
              "      <td>0.000000</td>\n",
              "      <td>9000.0</td>\n",
              "      <td>0.000000</td>\n",
              "    </tr>\n",
              "    <tr>\n",
              "      <th>2637</th>\n",
              "      <td>12714</td>\n",
              "      <td>2020-01-01</td>\n",
              "      <td>2020-04-26</td>\n",
              "      <td>78.763096</td>\n",
              "      <td>1500.0</td>\n",
              "      <td>0.052509</td>\n",
              "    </tr>\n",
              "    <tr>\n",
              "      <th>...</th>\n",
              "      <td>...</td>\n",
              "      <td>...</td>\n",
              "      <td>...</td>\n",
              "      <td>...</td>\n",
              "      <td>...</td>\n",
              "      <td>...</td>\n",
              "    </tr>\n",
              "    <tr>\n",
              "      <th>8945</th>\n",
              "      <td>19186</td>\n",
              "      <td>2020-07-31</td>\n",
              "      <td>2020-03-11</td>\n",
              "      <td>0.000000</td>\n",
              "      <td>1000.0</td>\n",
              "      <td>0.000000</td>\n",
              "    </tr>\n",
              "    <tr>\n",
              "      <th>8946</th>\n",
              "      <td>19187</td>\n",
              "      <td>2020-07-31</td>\n",
              "      <td>2020-06-09</td>\n",
              "      <td>0.000000</td>\n",
              "      <td>1000.0</td>\n",
              "      <td>0.000000</td>\n",
              "    </tr>\n",
              "    <tr>\n",
              "      <th>8947</th>\n",
              "      <td>19188</td>\n",
              "      <td>2020-07-31</td>\n",
              "      <td>2020-03-06</td>\n",
              "      <td>0.000000</td>\n",
              "      <td>1000.0</td>\n",
              "      <td>0.000000</td>\n",
              "    </tr>\n",
              "    <tr>\n",
              "      <th>8948</th>\n",
              "      <td>19189</td>\n",
              "      <td>2020-07-31</td>\n",
              "      <td>2020-07-19</td>\n",
              "      <td>36.558778</td>\n",
              "      <td>500.0</td>\n",
              "      <td>0.073118</td>\n",
              "    </tr>\n",
              "    <tr>\n",
              "      <th>8949</th>\n",
              "      <td>19190</td>\n",
              "      <td>2020-07-31</td>\n",
              "      <td>2020-10-14</td>\n",
              "      <td>127.040008</td>\n",
              "      <td>1200.0</td>\n",
              "      <td>0.105867</td>\n",
              "    </tr>\n",
              "  </tbody>\n",
              "</table>\n",
              "<p>6317 rows × 6 columns</p>\n",
              "</div>"
            ],
            "text/plain": [
              "     cust_id activated_date  ... credit_limit  percentage_credit_limit\n",
              "2633   12709     2020-01-01  ...       8000.0                 0.303912\n",
              "2634   12710     2020-01-01  ...       2000.0                 0.000000\n",
              "2635   12712     2020-01-01  ...       3000.0                 0.000000\n",
              "2636   12713     2020-01-01  ...       9000.0                 0.000000\n",
              "2637   12714     2020-01-01  ...       1500.0                 0.052509\n",
              "...      ...            ...  ...          ...                      ...\n",
              "8945   19186     2020-07-31  ...       1000.0                 0.000000\n",
              "8946   19187     2020-07-31  ...       1000.0                 0.000000\n",
              "8947   19188     2020-07-31  ...       1000.0                 0.000000\n",
              "8948   19189     2020-07-31  ...        500.0                 0.073118\n",
              "8949   19190     2020-07-31  ...       1200.0                 0.105867\n",
              "\n",
              "[6317 rows x 6 columns]"
            ]
          },
          "metadata": {
            "tags": []
          },
          "execution_count": 289
        }
      ]
    },
    {
      "cell_type": "markdown",
      "metadata": {
        "id": "ld5alrWIeta3"
      },
      "source": [
        "# Question 3"
      ]
    },
    {
      "cell_type": "markdown",
      "metadata": {
        "id": "nkSXKHdzeztK"
      },
      "source": [
        "## 3.1 Build a predictive model for fraud."
      ]
    },
    {
      "cell_type": "markdown",
      "metadata": {
        "id": "7FaFGtRbU5d0"
      },
      "source": [
        "The model was created by [Multilayer Neural Network](https://en.wikipedia.org/wiki/Multilayer_perceptron) for a major results"
      ]
    },
    {
      "cell_type": "code",
      "metadata": {
        "id": "HhvAEhUERIrV"
      },
      "source": [
        "df3 = df # Use a new data frame"
      ],
      "execution_count": 290,
      "outputs": []
    },
    {
      "cell_type": "code",
      "metadata": {
        "id": "3QWRG58WRKGB"
      },
      "source": [
        "# Choosing the qualitatives variables \n",
        "\n",
        "df3_1 = df3.drop(['cust_id','activated_date','last_payment_date','purchases_range','year_activate','month_activate',\n",
        "                  'act_dte1','act_dte',\t'lpyt_dte1',\t'lpyt_dte','cust_id1'], axis=1)"
      ],
      "execution_count": 292,
      "outputs": []
    },
    {
      "cell_type": "code",
      "metadata": {
        "colab": {
          "base_uri": "https://localhost:8080/",
          "height": 296
        },
        "id": "tdzWp2JGRazK",
        "outputId": "a8ad9375-bd31-4a0c-8dbc-0fbaf255f798"
      },
      "source": [
        "# Analysing the dependent variable. There are not much registers for fraud= 1\n",
        "sns.countplot(x=\"fraud\", data=df3_1)"
      ],
      "execution_count": 293,
      "outputs": [
        {
          "output_type": "execute_result",
          "data": {
            "text/plain": [
              "<matplotlib.axes._subplots.AxesSubplot at 0x7faaaeecd0d0>"
            ]
          },
          "metadata": {
            "tags": []
          },
          "execution_count": 293
        },
        {
          "output_type": "display_data",
          "data": {
            "image/png": "[encoded data removed]",
            "text/plain": [
              "<Figure size 432x288 with 1 Axes>"
            ]
          },
          "metadata": {
            "tags": [],
            "needs_background": "light"
          }
        }
      ]
    },
    {
      "cell_type": "markdown",
      "metadata": {
        "id": "ZNMNZxqyRrbD"
      },
      "source": [
        "With a few registers for frauds cases, is important change this desequilibrium. For this, is necessary [generate](https://www.kaggle.com/rafjaa/resampling-strategies-for-imbalanced-datasets) a  best sub group for   sample with more balanced."
      ]
    },
    {
      "cell_type": "code",
      "metadata": {
        "id": "ugn1fzqXSOn-"
      },
      "source": [
        "# Organizing data names into independent variables and dependent variable\n",
        "col = df3_1.columns.to_list()\n",
        "cols = [c for c in col if c not in [\"fraud\"]]\n",
        "target = \"fraud\"\n"
      ],
      "execution_count": 294,
      "outputs": []
    },
    {
      "cell_type": "code",
      "metadata": {
        "id": "UL0jkZnqSw_V"
      },
      "source": [
        "# Independent and dependent variables\n",
        "X = df3_1[cols]\n",
        "Y = df3_1[target]"
      ],
      "execution_count": 296,
      "outputs": []
    },
    {
      "cell_type": "code",
      "metadata": {
        "id": "PnvHeZPkS4Cb"
      },
      "source": [
        "# Realizing  balanced data\n",
        "subsample = RandomUnderSampler(sampling_strategy=0.5) # fraud are the mitad of the sample\n",
        "X_sub, Y_sub = subsample.fit_resample(X, Y)\n",
        "test = pd.DataFrame(Y_sub,columns=['fraud'])"
      ],
      "execution_count": 297,
      "outputs": []
    },
    {
      "cell_type": "code",
      "metadata": {
        "colab": {
          "base_uri": "https://localhost:8080/",
          "height": 296
        },
        "id": "qh8yDJ2-Uezu",
        "outputId": "0f58955c-c29e-49fe-dafa-e7ab522c329b"
      },
      "source": [
        "# The new data has a more balanced registers\n",
        "sns.countplot(x='fraud', data=test)"
      ],
      "execution_count": 298,
      "outputs": [
        {
          "output_type": "execute_result",
          "data": {
            "text/plain": [
              "<matplotlib.axes._subplots.AxesSubplot at 0x7faaa8a92a10>"
            ]
          },
          "metadata": {
            "tags": []
          },
          "execution_count": 298
        },
        {
          "output_type": "display_data",
          "data": {
            "image/png": "[encoded data removed]",
            "text/plain": [
              "<Figure size 432x288 with 1 Axes>"
            ]
          },
          "metadata": {
            "tags": [],
            "needs_background": "light"
          }
        }
      ]
    },
    {
      "cell_type": "code",
      "metadata": {
        "id": "EVxO3niMUqBn"
      },
      "source": [
        "# Taking data subsets  for train and test \n",
        "X_train, X_test, y_train, y_test = train_test_split(X_sub, Y_sub, test_size=0.2, random_state=1)"
      ],
      "execution_count": 299,
      "outputs": []
    },
    {
      "cell_type": "markdown",
      "metadata": {
        "id": "9CZ8fJ7XWnxu"
      },
      "source": [
        "The Multilayer Neural network was built with 4 layers and 100 nodes in the thirth layers and one in the last layer, the activation function relu permite analizate the non linear comportamietos of the vairables. The sigmoid in the last layer take a only two values zero or one."
      ]
    },
    {
      "cell_type": "code",
      "metadata": {
        "id": "LqC_aSADVvYO"
      },
      "source": [
        "\n",
        "model_f = tf.keras.models.Sequential()\n",
        "model_f.add(tf.keras.layers.Dense(units=100, activation='relu', input_shape=(17, )))\n",
        "model_f.add(tf.keras.layers.Dense(units=100, activation='relu'))\n",
        "model_f.add(tf.keras.layers.Dense(units=100, activation='relu'))\n",
        "model_f.add(tf.keras.layers.Dense(units=1, activation='sigmoid'))"
      ],
      "execution_count": 300,
      "outputs": []
    },
    {
      "cell_type": "code",
      "metadata": {
        "colab": {
          "base_uri": "https://localhost:8080/"
        },
        "id": "PlxxP39PXaaI",
        "outputId": "18cef416-cefd-47f7-c2f5-960c2427face"
      },
      "source": [
        "# A model summary\n",
        "model_f.summary()"
      ],
      "execution_count": 301,
      "outputs": [
        {
          "output_type": "stream",
          "text": [
            "Model: \"sequential_7\"\n",
            "_________________________________________________________________\n",
            "Layer (type)                 Output Shape              Param #   \n",
            "=================================================================\n",
            "dense_28 (Dense)             (None, 100)               1800      \n",
            "_________________________________________________________________\n",
            "dense_29 (Dense)             (None, 100)               10100     \n",
            "_________________________________________________________________\n",
            "dense_30 (Dense)             (None, 100)               10100     \n",
            "_________________________________________________________________\n",
            "dense_31 (Dense)             (None, 1)                 101       \n",
            "=================================================================\n",
            "Total params: 22,101\n",
            "Trainable params: 22,101\n",
            "Non-trainable params: 0\n",
            "_________________________________________________________________\n"
          ],
          "name": "stdout"
        }
      ]
    },
    {
      "cell_type": "code",
      "metadata": {
        "id": "5gDnP3BNXhXq"
      },
      "source": [
        "# Compiling the model\n",
        "model_f.compile(optimizer='Adam', loss=tf.keras.losses.BinaryCrossentropy(),metrics=['accuracy'])"
      ],
      "execution_count": 302,
      "outputs": []
    },
    {
      "cell_type": "code",
      "metadata": {
        "colab": {
          "base_uri": "https://localhost:8080/"
        },
        "id": "rz2deqxnXnU0",
        "outputId": "4fb20d77-f502-4a7e-bf3c-1a825623ff81"
      },
      "source": [
        "# Iterating the model\n",
        "epochs_train = model_f.fit(X_train, y_train, epochs = 200, batch_size = 20, validation_split = 0.1)"
      ],
      "execution_count": 303,
      "outputs": [
        {
          "output_type": "stream",
          "text": [
            "Epoch 1/200\n",
            "8/8 [==============================] - 1s 32ms/step - loss: 106.7264 - accuracy: 0.5455 - val_loss: 3.6697 - val_accuracy: 0.8235\n",
            "Epoch 2/200\n",
            "8/8 [==============================] - 0s 8ms/step - loss: 50.5234 - accuracy: 0.7433 - val_loss: 68.1718 - val_accuracy: 0.8824\n",
            "Epoch 3/200\n",
            "8/8 [==============================] - 0s 9ms/step - loss: 28.7037 - accuracy: 0.8864 - val_loss: 9.1460 - val_accuracy: 0.9412\n",
            "Epoch 4/200\n",
            "8/8 [==============================] - 0s 9ms/step - loss: 28.5761 - accuracy: 0.7590 - val_loss: 1.1531 - val_accuracy: 0.9412\n",
            "Epoch 5/200\n",
            "8/8 [==============================] - 0s 9ms/step - loss: 33.1374 - accuracy: 0.7363 - val_loss: 20.9290 - val_accuracy: 0.8824\n",
            "Epoch 6/200\n",
            "8/8 [==============================] - 0s 8ms/step - loss: 34.2759 - accuracy: 0.8636 - val_loss: 57.8090 - val_accuracy: 0.8235\n",
            "Epoch 7/200\n",
            "8/8 [==============================] - 0s 8ms/step - loss: 33.7965 - accuracy: 0.8263 - val_loss: 2.2986 - val_accuracy: 0.9412\n",
            "Epoch 8/200\n",
            "8/8 [==============================] - 0s 8ms/step - loss: 28.8703 - accuracy: 0.7672 - val_loss: 2.2764 - val_accuracy: 0.9412\n",
            "Epoch 9/200\n",
            "8/8 [==============================] - 0s 9ms/step - loss: 20.0687 - accuracy: 0.7922 - val_loss: 3.1791e-06 - val_accuracy: 1.0000\n",
            "Epoch 10/200\n",
            "8/8 [==============================] - 0s 9ms/step - loss: 12.2785 - accuracy: 0.8651 - val_loss: 13.2894 - val_accuracy: 0.8824\n",
            "Epoch 11/200\n",
            "8/8 [==============================] - 0s 9ms/step - loss: 7.4772 - accuracy: 0.8523 - val_loss: 5.8651 - val_accuracy: 0.9412\n",
            "Epoch 12/200\n",
            "8/8 [==============================] - 0s 8ms/step - loss: 11.2405 - accuracy: 0.8409 - val_loss: 4.4078 - val_accuracy: 0.9412\n",
            "Epoch 13/200\n",
            "8/8 [==============================] - 0s 8ms/step - loss: 9.8004 - accuracy: 0.8506 - val_loss: 8.7933 - val_accuracy: 0.8235\n",
            "Epoch 14/200\n",
            "8/8 [==============================] - 0s 9ms/step - loss: 24.6037 - accuracy: 0.7446 - val_loss: 12.5505 - val_accuracy: 0.8824\n",
            "Epoch 15/200\n",
            "8/8 [==============================] - 0s 8ms/step - loss: 12.0189 - accuracy: 0.8931 - val_loss: 3.5970 - val_accuracy: 0.9412\n",
            "Epoch 16/200\n",
            "8/8 [==============================] - 0s 8ms/step - loss: 12.0852 - accuracy: 0.7806 - val_loss: 2.1515e-09 - val_accuracy: 1.0000\n",
            "Epoch 17/200\n",
            "8/8 [==============================] - 0s 8ms/step - loss: 8.4206 - accuracy: 0.8359 - val_loss: 3.4891 - val_accuracy: 0.9412\n",
            "Epoch 18/200\n",
            "8/8 [==============================] - 0s 9ms/step - loss: 6.0825 - accuracy: 0.8173 - val_loss: 8.3073 - val_accuracy: 0.9412\n",
            "Epoch 19/200\n",
            "8/8 [==============================] - 0s 8ms/step - loss: 5.6067 - accuracy: 0.8740 - val_loss: 1.9794 - val_accuracy: 0.9412\n",
            "Epoch 20/200\n",
            "8/8 [==============================] - 0s 8ms/step - loss: 6.0402 - accuracy: 0.8991 - val_loss: 6.1593 - val_accuracy: 0.8235\n",
            "Epoch 21/200\n",
            "8/8 [==============================] - 0s 8ms/step - loss: 8.5689 - accuracy: 0.8104 - val_loss: 21.1411 - val_accuracy: 0.8824\n",
            "Epoch 22/200\n",
            "8/8 [==============================] - 0s 8ms/step - loss: 8.2749 - accuracy: 0.8810 - val_loss: 2.4357 - val_accuracy: 0.8824\n",
            "Epoch 23/200\n",
            "8/8 [==============================] - 0s 8ms/step - loss: 4.2721 - accuracy: 0.8332 - val_loss: 8.3305 - val_accuracy: 0.9412\n",
            "Epoch 24/200\n",
            "8/8 [==============================] - 0s 8ms/step - loss: 4.2131 - accuracy: 0.8690 - val_loss: 15.0973 - val_accuracy: 0.8824\n",
            "Epoch 25/200\n",
            "8/8 [==============================] - 0s 9ms/step - loss: 1.8161 - accuracy: 0.9336 - val_loss: 4.3106 - val_accuracy: 0.9412\n",
            "Epoch 26/200\n",
            "8/8 [==============================] - 0s 10ms/step - loss: 4.1818 - accuracy: 0.8579 - val_loss: 1.8851 - val_accuracy: 0.9412\n",
            "Epoch 27/200\n",
            "8/8 [==============================] - 0s 8ms/step - loss: 7.7787 - accuracy: 0.8377 - val_loss: 0.1229 - val_accuracy: 0.9412\n",
            "Epoch 28/200\n",
            "8/8 [==============================] - 0s 9ms/step - loss: 4.4241 - accuracy: 0.9242 - val_loss: 4.2008 - val_accuracy: 0.9412\n",
            "Epoch 29/200\n",
            "8/8 [==============================] - 0s 8ms/step - loss: 5.6083 - accuracy: 0.9065 - val_loss: 17.4608 - val_accuracy: 0.8824\n",
            "Epoch 30/200\n",
            "8/8 [==============================] - 0s 8ms/step - loss: 3.9574 - accuracy: 0.9072 - val_loss: 12.1233 - val_accuracy: 0.8824\n",
            "Epoch 31/200\n",
            "8/8 [==============================] - 0s 8ms/step - loss: 1.6871 - accuracy: 0.9276 - val_loss: 0.5095 - val_accuracy: 0.8824\n",
            "Epoch 32/200\n",
            "8/8 [==============================] - 0s 9ms/step - loss: 2.6149 - accuracy: 0.8954 - val_loss: 15.7601 - val_accuracy: 0.8824\n",
            "Epoch 33/200\n",
            "8/8 [==============================] - 0s 9ms/step - loss: 1.9145 - accuracy: 0.9421 - val_loss: 1.6588 - val_accuracy: 0.8824\n",
            "Epoch 34/200\n",
            "8/8 [==============================] - 0s 9ms/step - loss: 1.5924 - accuracy: 0.9323 - val_loss: 18.6973 - val_accuracy: 0.9412\n",
            "Epoch 35/200\n",
            "8/8 [==============================] - 0s 9ms/step - loss: 2.6468 - accuracy: 0.9020 - val_loss: 19.5300 - val_accuracy: 0.8824\n",
            "Epoch 36/200\n",
            "8/8 [==============================] - 0s 8ms/step - loss: 1.0110 - accuracy: 0.9639 - val_loss: 2.7882 - val_accuracy: 0.9412\n",
            "Epoch 37/200\n",
            "8/8 [==============================] - 0s 8ms/step - loss: 1.1218 - accuracy: 0.8920 - val_loss: 8.7865 - val_accuracy: 0.8824\n",
            "Epoch 38/200\n",
            "8/8 [==============================] - 0s 9ms/step - loss: 1.1378 - accuracy: 0.8923 - val_loss: 5.3008 - val_accuracy: 0.8235\n",
            "Epoch 39/200\n",
            "8/8 [==============================] - 0s 9ms/step - loss: 1.8753 - accuracy: 0.9224 - val_loss: 22.5997 - val_accuracy: 0.8824\n",
            "Epoch 40/200\n",
            "8/8 [==============================] - 0s 11ms/step - loss: 4.4070 - accuracy: 0.9189 - val_loss: 16.1015 - val_accuracy: 0.9412\n",
            "Epoch 41/200\n",
            "8/8 [==============================] - 0s 8ms/step - loss: 5.4200 - accuracy: 0.8906 - val_loss: 3.2479 - val_accuracy: 0.9412\n",
            "Epoch 42/200\n",
            "8/8 [==============================] - 0s 9ms/step - loss: 2.1048 - accuracy: 0.8964 - val_loss: 3.8979 - val_accuracy: 0.8824\n",
            "Epoch 43/200\n",
            "8/8 [==============================] - 0s 8ms/step - loss: 1.6122 - accuracy: 0.8973 - val_loss: 31.6006 - val_accuracy: 0.8824\n",
            "Epoch 44/200\n",
            "8/8 [==============================] - 0s 9ms/step - loss: 9.1411 - accuracy: 0.8594 - val_loss: 1.9927 - val_accuracy: 0.9412\n",
            "Epoch 45/200\n",
            "8/8 [==============================] - 0s 8ms/step - loss: 5.8704 - accuracy: 0.9236 - val_loss: 1.5151 - val_accuracy: 0.9412\n",
            "Epoch 46/200\n",
            "8/8 [==============================] - 0s 8ms/step - loss: 8.8668 - accuracy: 0.8608 - val_loss: 6.3394 - val_accuracy: 0.9412\n",
            "Epoch 47/200\n",
            "8/8 [==============================] - 0s 8ms/step - loss: 7.3884 - accuracy: 0.8826 - val_loss: 6.1160 - val_accuracy: 0.9412\n",
            "Epoch 48/200\n",
            "8/8 [==============================] - 0s 8ms/step - loss: 7.6593 - accuracy: 0.8272 - val_loss: 31.5796 - val_accuracy: 0.8235\n",
            "Epoch 49/200\n",
            "8/8 [==============================] - 0s 9ms/step - loss: 1.9835 - accuracy: 0.8931 - val_loss: 15.9948 - val_accuracy: 0.7059\n",
            "Epoch 50/200\n",
            "8/8 [==============================] - 0s 10ms/step - loss: 1.1444 - accuracy: 0.8822 - val_loss: 5.0094 - val_accuracy: 0.9412\n",
            "Epoch 51/200\n",
            "8/8 [==============================] - 0s 10ms/step - loss: 2.8737 - accuracy: 0.8908 - val_loss: 12.1150 - val_accuracy: 0.8235\n",
            "Epoch 52/200\n",
            "8/8 [==============================] - 0s 8ms/step - loss: 0.5792 - accuracy: 0.9669 - val_loss: 6.9225 - val_accuracy: 0.8235\n",
            "Epoch 53/200\n",
            "8/8 [==============================] - 0s 8ms/step - loss: 0.9345 - accuracy: 0.9508 - val_loss: 23.4298 - val_accuracy: 0.8824\n",
            "Epoch 54/200\n",
            "8/8 [==============================] - 0s 9ms/step - loss: 1.6811 - accuracy: 0.9465 - val_loss: 8.4264 - val_accuracy: 0.7647\n",
            "Epoch 55/200\n",
            "8/8 [==============================] - 0s 10ms/step - loss: 1.4818 - accuracy: 0.9197 - val_loss: 31.8876 - val_accuracy: 0.8235\n",
            "Epoch 56/200\n",
            "8/8 [==============================] - 0s 9ms/step - loss: 1.5912 - accuracy: 0.9539 - val_loss: 5.1441 - val_accuracy: 0.8824\n",
            "Epoch 57/200\n",
            "8/8 [==============================] - 0s 10ms/step - loss: 0.6320 - accuracy: 0.9226 - val_loss: 12.4198 - val_accuracy: 0.8235\n",
            "Epoch 58/200\n",
            "8/8 [==============================] - 0s 8ms/step - loss: 0.2037 - accuracy: 0.9802 - val_loss: 6.4855 - val_accuracy: 0.8824\n",
            "Epoch 59/200\n",
            "8/8 [==============================] - 0s 9ms/step - loss: 0.3672 - accuracy: 0.9503 - val_loss: 14.0805 - val_accuracy: 0.8235\n",
            "Epoch 60/200\n",
            "8/8 [==============================] - 0s 8ms/step - loss: 0.5180 - accuracy: 0.9504 - val_loss: 13.2825 - val_accuracy: 0.8824\n",
            "Epoch 61/200\n",
            "8/8 [==============================] - 0s 10ms/step - loss: 0.4868 - accuracy: 0.9836 - val_loss: 17.6006 - val_accuracy: 0.8235\n",
            "Epoch 62/200\n",
            "8/8 [==============================] - 0s 8ms/step - loss: 0.2240 - accuracy: 0.9718 - val_loss: 22.2418 - val_accuracy: 0.7647\n",
            "Epoch 63/200\n",
            "8/8 [==============================] - 0s 10ms/step - loss: 0.2149 - accuracy: 0.9690 - val_loss: 9.8013 - val_accuracy: 0.8235\n",
            "Epoch 64/200\n",
            "8/8 [==============================] - 0s 9ms/step - loss: 1.4736 - accuracy: 0.8703 - val_loss: 18.3637 - val_accuracy: 0.8824\n",
            "Epoch 65/200\n",
            "8/8 [==============================] - 0s 9ms/step - loss: 2.9071 - accuracy: 0.9166 - val_loss: 4.6570 - val_accuracy: 0.9412\n",
            "Epoch 66/200\n",
            "8/8 [==============================] - 0s 7ms/step - loss: 1.8096 - accuracy: 0.9201 - val_loss: 5.8631 - val_accuracy: 0.8235\n",
            "Epoch 67/200\n",
            "8/8 [==============================] - 0s 8ms/step - loss: 0.4291 - accuracy: 0.9713 - val_loss: 9.9920 - val_accuracy: 0.8235\n",
            "Epoch 68/200\n",
            "8/8 [==============================] - 0s 9ms/step - loss: 0.5442 - accuracy: 0.9086 - val_loss: 5.0203 - val_accuracy: 0.9412\n",
            "Epoch 69/200\n",
            "8/8 [==============================] - 0s 9ms/step - loss: 8.5985 - accuracy: 0.8171 - val_loss: 65.0089 - val_accuracy: 0.8235\n",
            "Epoch 70/200\n",
            "8/8 [==============================] - 0s 9ms/step - loss: 13.3507 - accuracy: 0.9252 - val_loss: 4.9458 - val_accuracy: 0.8824\n",
            "Epoch 71/200\n",
            "8/8 [==============================] - 0s 8ms/step - loss: 10.9030 - accuracy: 0.8280 - val_loss: 76.8597 - val_accuracy: 0.8235\n",
            "Epoch 72/200\n",
            "8/8 [==============================] - 0s 8ms/step - loss: 8.9978 - accuracy: 0.8702 - val_loss: 23.9783 - val_accuracy: 0.8235\n",
            "Epoch 73/200\n",
            "8/8 [==============================] - 0s 9ms/step - loss: 3.2898 - accuracy: 0.9355 - val_loss: 6.9348 - val_accuracy: 0.8235\n",
            "Epoch 74/200\n",
            "8/8 [==============================] - 0s 8ms/step - loss: 6.1942 - accuracy: 0.8708 - val_loss: 9.9677 - val_accuracy: 0.8235\n",
            "Epoch 75/200\n",
            "8/8 [==============================] - 0s 8ms/step - loss: 0.6856 - accuracy: 0.9544 - val_loss: 52.1130 - val_accuracy: 0.7647\n",
            "Epoch 76/200\n",
            "8/8 [==============================] - 0s 8ms/step - loss: 3.1484 - accuracy: 0.9174 - val_loss: 17.3213 - val_accuracy: 0.8824\n",
            "Epoch 77/200\n",
            "8/8 [==============================] - 0s 8ms/step - loss: 1.4442 - accuracy: 0.9352 - val_loss: 33.3061 - val_accuracy: 0.8824\n",
            "Epoch 78/200\n",
            "8/8 [==============================] - 0s 9ms/step - loss: 2.0360 - accuracy: 0.9294 - val_loss: 11.2329 - val_accuracy: 0.8824\n",
            "Epoch 79/200\n",
            "8/8 [==============================] - 0s 8ms/step - loss: 1.3542 - accuracy: 0.9094 - val_loss: 12.5770 - val_accuracy: 0.8824\n",
            "Epoch 80/200\n",
            "8/8 [==============================] - 0s 8ms/step - loss: 0.3638 - accuracy: 0.9772 - val_loss: 21.4761 - val_accuracy: 0.8824\n",
            "Epoch 81/200\n",
            "8/8 [==============================] - 0s 8ms/step - loss: 1.0607 - accuracy: 0.9660 - val_loss: 10.5975 - val_accuracy: 0.8235\n",
            "Epoch 82/200\n",
            "8/8 [==============================] - 0s 9ms/step - loss: 0.3311 - accuracy: 0.9633 - val_loss: 16.3348 - val_accuracy: 0.8824\n",
            "Epoch 83/200\n",
            "8/8 [==============================] - 0s 11ms/step - loss: 0.1526 - accuracy: 0.9940 - val_loss: 16.6105 - val_accuracy: 0.8824\n",
            "Epoch 84/200\n",
            "8/8 [==============================] - 0s 8ms/step - loss: 0.1669 - accuracy: 0.9871 - val_loss: 10.0449 - val_accuracy: 0.8824\n",
            "Epoch 85/200\n",
            "8/8 [==============================] - 0s 9ms/step - loss: 0.1415 - accuracy: 0.9683 - val_loss: 8.9742 - val_accuracy: 0.8824\n",
            "Epoch 86/200\n",
            "8/8 [==============================] - 0s 9ms/step - loss: 0.2716 - accuracy: 0.9686 - val_loss: 9.6927 - val_accuracy: 0.8824\n",
            "Epoch 87/200\n",
            "8/8 [==============================] - 0s 8ms/step - loss: 0.0155 - accuracy: 0.9957 - val_loss: 12.3934 - val_accuracy: 0.8824\n",
            "Epoch 88/200\n",
            "8/8 [==============================] - 0s 9ms/step - loss: 0.0070 - accuracy: 0.9968 - val_loss: 13.6134 - val_accuracy: 0.8824\n",
            "Epoch 89/200\n",
            "8/8 [==============================] - 0s 9ms/step - loss: 0.0074 - accuracy: 1.0000 - val_loss: 14.5297 - val_accuracy: 0.8824\n",
            "Epoch 90/200\n",
            "8/8 [==============================] - 0s 9ms/step - loss: 0.0012 - accuracy: 1.0000 - val_loss: 15.6052 - val_accuracy: 0.8824\n",
            "Epoch 91/200\n",
            "8/8 [==============================] - 0s 8ms/step - loss: 0.0117 - accuracy: 0.9968 - val_loss: 15.1237 - val_accuracy: 0.8824\n",
            "Epoch 92/200\n",
            "8/8 [==============================] - 0s 9ms/step - loss: 0.0145 - accuracy: 0.9957 - val_loss: 15.4443 - val_accuracy: 0.8824\n",
            "Epoch 93/200\n",
            "8/8 [==============================] - 0s 8ms/step - loss: 0.0209 - accuracy: 0.9977 - val_loss: 15.7037 - val_accuracy: 0.8824\n",
            "Epoch 94/200\n",
            "8/8 [==============================] - 0s 9ms/step - loss: 0.0240 - accuracy: 0.9895 - val_loss: 14.8430 - val_accuracy: 0.8824\n",
            "Epoch 95/200\n",
            "8/8 [==============================] - 0s 8ms/step - loss: 0.1538 - accuracy: 0.9825 - val_loss: 15.8298 - val_accuracy: 0.8824\n",
            "Epoch 96/200\n",
            "8/8 [==============================] - 0s 8ms/step - loss: 0.2855 - accuracy: 0.9902 - val_loss: 14.5808 - val_accuracy: 0.8824\n",
            "Epoch 97/200\n",
            "8/8 [==============================] - 0s 9ms/step - loss: 0.2245 - accuracy: 0.9594 - val_loss: 15.1810 - val_accuracy: 0.8824\n",
            "Epoch 98/200\n",
            "8/8 [==============================] - 0s 10ms/step - loss: 0.0731 - accuracy: 0.9925 - val_loss: 13.4066 - val_accuracy: 0.8235\n",
            "Epoch 99/200\n",
            "8/8 [==============================] - 0s 8ms/step - loss: 0.0525 - accuracy: 0.9723 - val_loss: 17.8711 - val_accuracy: 0.8235\n",
            "Epoch 100/200\n",
            "8/8 [==============================] - 0s 8ms/step - loss: 0.0053 - accuracy: 0.9977 - val_loss: 16.9441 - val_accuracy: 0.7647\n",
            "Epoch 101/200\n",
            "8/8 [==============================] - 0s 8ms/step - loss: 0.0368 - accuracy: 0.9928 - val_loss: 18.4313 - val_accuracy: 0.8235\n",
            "Epoch 102/200\n",
            "8/8 [==============================] - 0s 9ms/step - loss: 0.1322 - accuracy: 0.9854 - val_loss: 16.5322 - val_accuracy: 0.8824\n",
            "Epoch 103/200\n",
            "8/8 [==============================] - 0s 8ms/step - loss: 0.0603 - accuracy: 0.9920 - val_loss: 16.3782 - val_accuracy: 0.8824\n",
            "Epoch 104/200\n",
            "8/8 [==============================] - 0s 9ms/step - loss: 0.0054 - accuracy: 0.9985 - val_loss: 15.4756 - val_accuracy: 0.8824\n",
            "Epoch 105/200\n",
            "8/8 [==============================] - 0s 8ms/step - loss: 0.0795 - accuracy: 0.9854 - val_loss: 17.5643 - val_accuracy: 0.8235\n",
            "Epoch 106/200\n",
            "8/8 [==============================] - 0s 9ms/step - loss: 0.0840 - accuracy: 0.9840 - val_loss: 14.9888 - val_accuracy: 0.8824\n",
            "Epoch 107/200\n",
            "8/8 [==============================] - 0s 8ms/step - loss: 0.0279 - accuracy: 0.9885 - val_loss: 13.8505 - val_accuracy: 0.8824\n",
            "Epoch 108/200\n",
            "8/8 [==============================] - 0s 9ms/step - loss: 0.0084 - accuracy: 0.9943 - val_loss: 22.3673 - val_accuracy: 0.8824\n",
            "Epoch 109/200\n",
            "8/8 [==============================] - 0s 9ms/step - loss: 0.1803 - accuracy: 0.9872 - val_loss: 14.3998 - val_accuracy: 0.7647\n",
            "Epoch 110/200\n",
            "8/8 [==============================] - 0s 8ms/step - loss: 3.4850 - accuracy: 0.8609 - val_loss: 37.6367 - val_accuracy: 0.8235\n",
            "Epoch 111/200\n",
            "8/8 [==============================] - 0s 8ms/step - loss: 2.6191 - accuracy: 0.9553 - val_loss: 14.1821 - val_accuracy: 0.8824\n",
            "Epoch 112/200\n",
            "8/8 [==============================] - 0s 9ms/step - loss: 0.7517 - accuracy: 0.9459 - val_loss: 30.1950 - val_accuracy: 0.8824\n",
            "Epoch 113/200\n",
            "8/8 [==============================] - 0s 10ms/step - loss: 1.3710 - accuracy: 0.9688 - val_loss: 16.8154 - val_accuracy: 0.7059\n",
            "Epoch 114/200\n",
            "8/8 [==============================] - 0s 10ms/step - loss: 6.2911 - accuracy: 0.7879 - val_loss: 29.6115 - val_accuracy: 0.8824\n",
            "Epoch 115/200\n",
            "8/8 [==============================] - 0s 10ms/step - loss: 2.4043 - accuracy: 0.9420 - val_loss: 12.3332 - val_accuracy: 0.8235\n",
            "Epoch 116/200\n",
            "8/8 [==============================] - 0s 9ms/step - loss: 5.3617 - accuracy: 0.8237 - val_loss: 32.4054 - val_accuracy: 0.8824\n",
            "Epoch 117/200\n",
            "8/8 [==============================] - 0s 9ms/step - loss: 4.5677 - accuracy: 0.8972 - val_loss: 3.0531 - val_accuracy: 0.9412\n",
            "Epoch 118/200\n",
            "8/8 [==============================] - 0s 8ms/step - loss: 3.9118 - accuracy: 0.8611 - val_loss: 14.6359 - val_accuracy: 0.8824\n",
            "Epoch 119/200\n",
            "8/8 [==============================] - 0s 8ms/step - loss: 6.9168 - accuracy: 0.8941 - val_loss: 5.9062 - val_accuracy: 0.5294\n",
            "Epoch 120/200\n",
            "8/8 [==============================] - 0s 8ms/step - loss: 6.2761 - accuracy: 0.8269 - val_loss: 49.7901 - val_accuracy: 0.8235\n",
            "Epoch 121/200\n",
            "8/8 [==============================] - 0s 9ms/step - loss: 5.7585 - accuracy: 0.9552 - val_loss: 22.3910 - val_accuracy: 0.9412\n",
            "Epoch 122/200\n",
            "8/8 [==============================] - 0s 10ms/step - loss: 2.9910 - accuracy: 0.9091 - val_loss: 20.3467 - val_accuracy: 0.8824\n",
            "Epoch 123/200\n",
            "8/8 [==============================] - 0s 9ms/step - loss: 3.3693 - accuracy: 0.9105 - val_loss: 22.7743 - val_accuracy: 0.9412\n",
            "Epoch 124/200\n",
            "8/8 [==============================] - 0s 12ms/step - loss: 0.6864 - accuracy: 0.9693 - val_loss: 21.1312 - val_accuracy: 0.8824\n",
            "Epoch 125/200\n",
            "8/8 [==============================] - 0s 9ms/step - loss: 1.1664 - accuracy: 0.9648 - val_loss: 18.5750 - val_accuracy: 0.8824\n",
            "Epoch 126/200\n",
            "8/8 [==============================] - 0s 9ms/step - loss: 0.2585 - accuracy: 0.9669 - val_loss: 27.9851 - val_accuracy: 0.8824\n",
            "Epoch 127/200\n",
            "8/8 [==============================] - 0s 8ms/step - loss: 0.9108 - accuracy: 0.9594 - val_loss: 14.1625 - val_accuracy: 0.7647\n",
            "Epoch 128/200\n",
            "8/8 [==============================] - 0s 9ms/step - loss: 0.4196 - accuracy: 0.9279 - val_loss: 8.9755 - val_accuracy: 0.8824\n",
            "Epoch 129/200\n",
            "8/8 [==============================] - 0s 9ms/step - loss: 0.2620 - accuracy: 0.9657 - val_loss: 9.3590 - val_accuracy: 0.8824\n",
            "Epoch 130/200\n",
            "8/8 [==============================] - 0s 8ms/step - loss: 0.1145 - accuracy: 0.9781 - val_loss: 8.4103 - val_accuracy: 0.8824\n",
            "Epoch 131/200\n",
            "8/8 [==============================] - 0s 8ms/step - loss: 0.2438 - accuracy: 0.9710 - val_loss: 9.7515 - val_accuracy: 0.8824\n",
            "Epoch 132/200\n",
            "8/8 [==============================] - 0s 9ms/step - loss: 0.0650 - accuracy: 0.9878 - val_loss: 8.1005 - val_accuracy: 0.8824\n",
            "Epoch 133/200\n",
            "8/8 [==============================] - 0s 8ms/step - loss: 0.1250 - accuracy: 0.9778 - val_loss: 10.9803 - val_accuracy: 0.8824\n",
            "Epoch 134/200\n",
            "8/8 [==============================] - 0s 10ms/step - loss: 0.0650 - accuracy: 0.9817 - val_loss: 11.9281 - val_accuracy: 0.8824\n",
            "Epoch 135/200\n",
            "8/8 [==============================] - 0s 9ms/step - loss: 0.0136 - accuracy: 0.9955 - val_loss: 13.2531 - val_accuracy: 0.8824\n",
            "Epoch 136/200\n",
            "8/8 [==============================] - 0s 8ms/step - loss: 0.0373 - accuracy: 0.9854 - val_loss: 12.5402 - val_accuracy: 0.8824\n",
            "Epoch 137/200\n",
            "8/8 [==============================] - 0s 8ms/step - loss: 0.0226 - accuracy: 0.9910 - val_loss: 14.7657 - val_accuracy: 0.8824\n",
            "Epoch 138/200\n",
            "8/8 [==============================] - 0s 8ms/step - loss: 0.0309 - accuracy: 0.9968 - val_loss: 16.4474 - val_accuracy: 0.9412\n",
            "Epoch 139/200\n",
            "8/8 [==============================] - 0s 8ms/step - loss: 0.0022 - accuracy: 1.0000 - val_loss: 14.1696 - val_accuracy: 0.8824\n",
            "Epoch 140/200\n",
            "8/8 [==============================] - 0s 9ms/step - loss: 0.0112 - accuracy: 1.0000 - val_loss: 14.1548 - val_accuracy: 0.8824\n",
            "Epoch 141/200\n",
            "8/8 [==============================] - 0s 9ms/step - loss: 0.0035 - accuracy: 1.0000 - val_loss: 14.3928 - val_accuracy: 0.8824\n",
            "Epoch 142/200\n",
            "8/8 [==============================] - 0s 8ms/step - loss: 0.0053 - accuracy: 1.0000 - val_loss: 14.8064 - val_accuracy: 0.9412\n",
            "Epoch 143/200\n",
            "8/8 [==============================] - 0s 8ms/step - loss: 0.0030 - accuracy: 1.0000 - val_loss: 14.9657 - val_accuracy: 0.9412\n",
            "Epoch 144/200\n",
            "8/8 [==============================] - 0s 8ms/step - loss: 0.0011 - accuracy: 1.0000 - val_loss: 14.8276 - val_accuracy: 0.9412\n",
            "Epoch 145/200\n",
            "8/8 [==============================] - 0s 10ms/step - loss: 0.0014 - accuracy: 1.0000 - val_loss: 15.0424 - val_accuracy: 0.9412\n",
            "Epoch 146/200\n",
            "8/8 [==============================] - 0s 8ms/step - loss: 0.0019 - accuracy: 1.0000 - val_loss: 14.9914 - val_accuracy: 0.9412\n",
            "Epoch 147/200\n",
            "8/8 [==============================] - 0s 8ms/step - loss: 0.0016 - accuracy: 1.0000 - val_loss: 14.8516 - val_accuracy: 0.9412\n",
            "Epoch 148/200\n",
            "8/8 [==============================] - 0s 8ms/step - loss: 0.0030 - accuracy: 1.0000 - val_loss: 14.8824 - val_accuracy: 0.9412\n",
            "Epoch 149/200\n",
            "8/8 [==============================] - 0s 8ms/step - loss: 0.0044 - accuracy: 1.0000 - val_loss: 14.9395 - val_accuracy: 0.9412\n",
            "Epoch 150/200\n",
            "8/8 [==============================] - 0s 9ms/step - loss: 0.0013 - accuracy: 1.0000 - val_loss: 14.9923 - val_accuracy: 0.9412\n",
            "Epoch 151/200\n",
            "8/8 [==============================] - 0s 9ms/step - loss: 0.0016 - accuracy: 1.0000 - val_loss: 14.9705 - val_accuracy: 0.9412\n",
            "Epoch 152/200\n",
            "8/8 [==============================] - 0s 8ms/step - loss: 0.0041 - accuracy: 1.0000 - val_loss: 14.9992 - val_accuracy: 0.9412\n",
            "Epoch 153/200\n",
            "8/8 [==============================] - 0s 8ms/step - loss: 0.0011 - accuracy: 1.0000 - val_loss: 14.9968 - val_accuracy: 0.9412\n",
            "Epoch 154/200\n",
            "8/8 [==============================] - 0s 8ms/step - loss: 0.0029 - accuracy: 1.0000 - val_loss: 15.0854 - val_accuracy: 0.9412\n",
            "Epoch 155/200\n",
            "8/8 [==============================] - 0s 10ms/step - loss: 0.0022 - accuracy: 1.0000 - val_loss: 14.8870 - val_accuracy: 0.9412\n",
            "Epoch 156/200\n",
            "8/8 [==============================] - 0s 9ms/step - loss: 0.0019 - accuracy: 1.0000 - val_loss: 15.0854 - val_accuracy: 0.9412\n",
            "Epoch 157/200\n",
            "8/8 [==============================] - 0s 10ms/step - loss: 0.0028 - accuracy: 1.0000 - val_loss: 15.2891 - val_accuracy: 0.9412\n",
            "Epoch 158/200\n",
            "8/8 [==============================] - 0s 9ms/step - loss: 0.0011 - accuracy: 1.0000 - val_loss: 15.0037 - val_accuracy: 0.9412\n",
            "Epoch 159/200\n",
            "8/8 [==============================] - 0s 9ms/step - loss: 0.0021 - accuracy: 1.0000 - val_loss: 15.1892 - val_accuracy: 0.9412\n",
            "Epoch 160/200\n",
            "8/8 [==============================] - 0s 9ms/step - loss: 0.0037 - accuracy: 1.0000 - val_loss: 15.2542 - val_accuracy: 0.9412\n",
            "Epoch 161/200\n",
            "8/8 [==============================] - 0s 10ms/step - loss: 0.0027 - accuracy: 1.0000 - val_loss: 15.1863 - val_accuracy: 0.9412\n",
            "Epoch 162/200\n",
            "8/8 [==============================] - 0s 10ms/step - loss: 0.0034 - accuracy: 1.0000 - val_loss: 15.1414 - val_accuracy: 0.9412\n",
            "Epoch 163/200\n",
            "8/8 [==============================] - 0s 8ms/step - loss: 9.0453e-04 - accuracy: 1.0000 - val_loss: 15.1737 - val_accuracy: 0.9412\n",
            "Epoch 164/200\n",
            "8/8 [==============================] - 0s 9ms/step - loss: 0.0015 - accuracy: 1.0000 - val_loss: 15.2125 - val_accuracy: 0.9412\n",
            "Epoch 165/200\n",
            "8/8 [==============================] - 0s 8ms/step - loss: 0.0011 - accuracy: 1.0000 - val_loss: 15.2559 - val_accuracy: 0.9412\n",
            "Epoch 166/200\n",
            "8/8 [==============================] - 0s 9ms/step - loss: 0.0019 - accuracy: 1.0000 - val_loss: 15.2305 - val_accuracy: 0.9412\n",
            "Epoch 167/200\n",
            "8/8 [==============================] - 0s 8ms/step - loss: 7.8000e-04 - accuracy: 1.0000 - val_loss: 15.2595 - val_accuracy: 0.9412\n",
            "Epoch 168/200\n",
            "8/8 [==============================] - 0s 9ms/step - loss: 0.0016 - accuracy: 1.0000 - val_loss: 15.2580 - val_accuracy: 0.9412\n",
            "Epoch 169/200\n",
            "8/8 [==============================] - 0s 9ms/step - loss: 0.0010 - accuracy: 1.0000 - val_loss: 15.2417 - val_accuracy: 0.9412\n",
            "Epoch 170/200\n",
            "8/8 [==============================] - 0s 8ms/step - loss: 0.0017 - accuracy: 1.0000 - val_loss: 15.1466 - val_accuracy: 0.9412\n",
            "Epoch 171/200\n",
            "8/8 [==============================] - 0s 9ms/step - loss: 0.0018 - accuracy: 1.0000 - val_loss: 15.2923 - val_accuracy: 0.9412\n",
            "Epoch 172/200\n",
            "8/8 [==============================] - 0s 9ms/step - loss: 8.2081e-04 - accuracy: 1.0000 - val_loss: 15.3601 - val_accuracy: 0.9412\n",
            "Epoch 173/200\n",
            "8/8 [==============================] - 0s 8ms/step - loss: 0.0010 - accuracy: 1.0000 - val_loss: 15.3607 - val_accuracy: 0.9412\n",
            "Epoch 174/200\n",
            "8/8 [==============================] - 0s 8ms/step - loss: 0.0018 - accuracy: 1.0000 - val_loss: 15.3766 - val_accuracy: 0.9412\n",
            "Epoch 175/200\n",
            "8/8 [==============================] - 0s 9ms/step - loss: 0.0014 - accuracy: 1.0000 - val_loss: 15.2930 - val_accuracy: 0.9412\n",
            "Epoch 176/200\n",
            "8/8 [==============================] - 0s 10ms/step - loss: 0.0011 - accuracy: 1.0000 - val_loss: 15.3733 - val_accuracy: 0.9412\n",
            "Epoch 177/200\n",
            "8/8 [==============================] - 0s 9ms/step - loss: 0.0020 - accuracy: 1.0000 - val_loss: 15.3264 - val_accuracy: 0.9412\n",
            "Epoch 178/200\n",
            "8/8 [==============================] - 0s 9ms/step - loss: 0.0016 - accuracy: 1.0000 - val_loss: 15.4043 - val_accuracy: 0.9412\n",
            "Epoch 179/200\n",
            "8/8 [==============================] - 0s 8ms/step - loss: 6.9036e-04 - accuracy: 1.0000 - val_loss: 15.3662 - val_accuracy: 0.9412\n",
            "Epoch 180/200\n",
            "8/8 [==============================] - 0s 9ms/step - loss: 9.0182e-04 - accuracy: 1.0000 - val_loss: 15.4537 - val_accuracy: 0.9412\n",
            "Epoch 181/200\n",
            "8/8 [==============================] - 0s 8ms/step - loss: 8.5070e-04 - accuracy: 1.0000 - val_loss: 15.3484 - val_accuracy: 0.9412\n",
            "Epoch 182/200\n",
            "8/8 [==============================] - 0s 9ms/step - loss: 0.0021 - accuracy: 1.0000 - val_loss: 15.4549 - val_accuracy: 0.9412\n",
            "Epoch 183/200\n",
            "8/8 [==============================] - 0s 10ms/step - loss: 0.0011 - accuracy: 1.0000 - val_loss: 15.4561 - val_accuracy: 0.9412\n",
            "Epoch 184/200\n",
            "8/8 [==============================] - 0s 9ms/step - loss: 0.0011 - accuracy: 1.0000 - val_loss: 15.4535 - val_accuracy: 0.9412\n",
            "Epoch 185/200\n",
            "8/8 [==============================] - 0s 11ms/step - loss: 0.0014 - accuracy: 1.0000 - val_loss: 15.4779 - val_accuracy: 0.9412\n",
            "Epoch 186/200\n",
            "8/8 [==============================] - 0s 10ms/step - loss: 0.0017 - accuracy: 1.0000 - val_loss: 15.4885 - val_accuracy: 0.9412\n",
            "Epoch 187/200\n",
            "8/8 [==============================] - 0s 8ms/step - loss: 0.0013 - accuracy: 1.0000 - val_loss: 15.5116 - val_accuracy: 0.9412\n",
            "Epoch 188/200\n",
            "8/8 [==============================] - 0s 9ms/step - loss: 7.5627e-04 - accuracy: 1.0000 - val_loss: 15.3426 - val_accuracy: 0.9412\n",
            "Epoch 189/200\n",
            "8/8 [==============================] - 0s 8ms/step - loss: 0.0013 - accuracy: 1.0000 - val_loss: 15.4895 - val_accuracy: 0.9412\n",
            "Epoch 190/200\n",
            "8/8 [==============================] - 0s 9ms/step - loss: 0.0018 - accuracy: 1.0000 - val_loss: 15.6016 - val_accuracy: 0.9412\n",
            "Epoch 191/200\n",
            "8/8 [==============================] - 0s 8ms/step - loss: 0.0011 - accuracy: 1.0000 - val_loss: 15.5654 - val_accuracy: 0.9412\n",
            "Epoch 192/200\n",
            "8/8 [==============================] - 0s 9ms/step - loss: 5.5239e-04 - accuracy: 1.0000 - val_loss: 15.4407 - val_accuracy: 0.9412\n",
            "Epoch 193/200\n",
            "8/8 [==============================] - 0s 9ms/step - loss: 0.0014 - accuracy: 1.0000 - val_loss: 15.5363 - val_accuracy: 0.9412\n",
            "Epoch 194/200\n",
            "8/8 [==============================] - 0s 8ms/step - loss: 0.0010 - accuracy: 1.0000 - val_loss: 15.5283 - val_accuracy: 0.9412\n",
            "Epoch 195/200\n",
            "8/8 [==============================] - 0s 8ms/step - loss: 0.0022 - accuracy: 1.0000 - val_loss: 15.4894 - val_accuracy: 0.9412\n",
            "Epoch 196/200\n",
            "8/8 [==============================] - 0s 8ms/step - loss: 0.0010 - accuracy: 1.0000 - val_loss: 15.4821 - val_accuracy: 0.9412\n",
            "Epoch 197/200\n",
            "8/8 [==============================] - 0s 10ms/step - loss: 0.0010 - accuracy: 1.0000 - val_loss: 15.5086 - val_accuracy: 0.9412\n",
            "Epoch 198/200\n",
            "8/8 [==============================] - 0s 8ms/step - loss: 0.0011 - accuracy: 1.0000 - val_loss: 15.5613 - val_accuracy: 0.9412\n",
            "Epoch 199/200\n",
            "8/8 [==============================] - 0s 9ms/step - loss: 0.0021 - accuracy: 1.0000 - val_loss: 15.6058 - val_accuracy: 0.9412\n",
            "Epoch 200/200\n",
            "8/8 [==============================] - 0s 8ms/step - loss: 7.8964e-04 - accuracy: 1.0000 - val_loss: 15.5283 - val_accuracy: 0.9412\n"
          ],
          "name": "stdout"
        }
      ]
    },
    {
      "cell_type": "code",
      "metadata": {
        "colab": {
          "base_uri": "https://localhost:8080/",
          "height": 312
        },
        "id": "IqNVhYNbcvc2",
        "outputId": "95c48cb9-5755-4029-a7cc-5e370afbacee"
      },
      "source": [
        "# Show the accuracy of the model\n",
        "plt.plot(epochs_train.history['loss'])\n",
        "plt.plot(epochs_train.history['val_loss'])\n",
        "plt.title('Model progress')\n",
        "plt.xlabel('Epoch')\n",
        "plt.ylabel('Training and Validation Loss')\n",
        "plt.legend(['Training Loss', 'Validation Loss'])"
      ],
      "execution_count": 304,
      "outputs": [
        {
          "output_type": "execute_result",
          "data": {
            "text/plain": [
              "<matplotlib.legend.Legend at 0x7faaaefc9050>"
            ]
          },
          "metadata": {
            "tags": []
          },
          "execution_count": 304
        },
        {
          "output_type": "display_data",
          "data": {
            "image/png": "[encoded data removed]",
            "text/plain": [
              "<Figure size 432x288 with 1 Axes>"
            ]
          },
          "metadata": {
            "tags": [],
            "needs_background": "light"
          }
        }
      ]
    },
    {
      "cell_type": "code",
      "metadata": {
        "colab": {
          "base_uri": "https://localhost:8080/"
        },
        "id": "IHSW45G8c8dz",
        "outputId": "94e248d8-04fe-4d42-e886-6c7fde50659b"
      },
      "source": [
        "# Evaluating the model\n",
        "model_f.evaluate(X_test,y_test)"
      ],
      "execution_count": 305,
      "outputs": [
        {
          "output_type": "stream",
          "text": [
            "2/2 [==============================] - 0s 5ms/step - loss: 36.9988 - accuracy: 0.5952\n"
          ],
          "name": "stdout"
        },
        {
          "output_type": "execute_result",
          "data": {
            "text/plain": [
              "[36.99883270263672, 0.5952380895614624]"
            ]
          },
          "metadata": {
            "tags": []
          },
          "execution_count": 305
        }
      ]
    },
    {
      "cell_type": "code",
      "metadata": {
        "colab": {
          "base_uri": "https://localhost:8080/"
        },
        "id": "E6VDWtkSdEX9",
        "outputId": "de9cb83e-9e3b-4343-ccf2-27c4ef202430"
      },
      "source": [
        "#Prediction table\n",
        "predictions=model_f.predict(X_test)\n",
        "y_pred = model_f.predict(X_test)\n",
        "y_pred = (y_pred > 0.5) \n",
        "cm = confusion_matrix(y_test, y_pred)\n",
        "print(cm)\n",
        "print(accuracy_score(y_test, y_pred))"
      ],
      "execution_count": 306,
      "outputs": [
        {
          "output_type": "stream",
          "text": [
            "[[20  9]\n",
            " [ 8  5]]\n",
            "0.5952380952380952\n"
          ],
          "name": "stdout"
        }
      ]
    },
    {
      "cell_type": "code",
      "metadata": {
        "colab": {
          "base_uri": "https://localhost:8080/",
          "height": 374
        },
        "id": "bMJ11vK3ddGM",
        "outputId": "16193934-74ad-4b7e-c63e-ae0c0d6002fe"
      },
      "source": [
        "# Visualizing Confusion Matrix\n",
        "plt.figure(figsize = (6, 6))\n",
        "sns.heatmap(cm, cmap = 'Blues', annot = True, fmt = 'd', linewidths = 5, cbar = False, annot_kws = {'fontsize': 15}, \n",
        "            yticklabels = ['Genuine', 'Fraud'], xticklabels = ['Predicted Genuine', 'Predicted Fraud'])\n",
        "plt.yticks(rotation = 0)\n",
        "plt.show()"
      ],
      "execution_count": 307,
      "outputs": [
        {
          "output_type": "display_data",
          "data": {
            "image/png": "[encoded data removed]",
            "text/plain": [
              "<Figure size 432x432 with 1 Axes>"
            ]
          },
          "metadata": {
            "tags": [],
            "needs_background": "light"
          }
        }
      ]
    },
    {
      "cell_type": "code",
      "metadata": {
        "colab": {
          "base_uri": "https://localhost:8080/"
        },
        "id": "YsijCFrjdwl6",
        "outputId": "95684da0-d5b4-4fe5-8110-03c9037cc802"
      },
      "source": [
        "#Calculating the ROC curve\n",
        "y_pred_nn_proba = model_f.predict_proba(X_test)\n",
        "fpr_keras, tpr_keras, thresholds_keras = roc_curve(y_test,y_pred_nn_proba)\n",
        "auc_keras = auc(fpr_keras, tpr_keras)\n",
        "print('AUC Neural Net: ', auc_keras)"
      ],
      "execution_count": 308,
      "outputs": [
        {
          "output_type": "stream",
          "text": [
            "AUC Neural Net:  0.48275862068965525\n"
          ],
          "name": "stdout"
        }
      ]
    },
    {
      "cell_type": "code",
      "metadata": {
        "colab": {
          "base_uri": "https://localhost:8080/",
          "height": 295
        },
        "id": "yd97mkxwd4JF",
        "outputId": "d0a5aaa5-c11d-4dfb-926f-4b15656ba099"
      },
      "source": [
        "#Visualizing ROC Curve\n",
        "plt.figure(1)\n",
        "plt.plot([0, 1], [0, 1], 'k--')\n",
        "plt.plot(fpr_keras, tpr_keras, label='Keras (area = {:.3f})'.format(auc_keras))\n",
        "plt.xlabel('False positive rate')\n",
        "plt.ylabel('True positive rate')\n",
        "plt.title('Neural Net ROC curve')\n",
        "plt.legend(loc='best')\n",
        "plt.show()"
      ],
      "execution_count": 309,
      "outputs": [
        {
          "output_type": "display_data",
          "data": {
            "image/png": "[encoded data removed]",
            "text/plain": [
              "<Figure size 432x288 with 1 Axes>"
            ]
          },
          "metadata": {
            "tags": [],
            "needs_background": "light"
          }
        }
      ]
    },
    {
      "cell_type": "markdown",
      "metadata": {
        "id": "EEAV5-VNkB1C"
      },
      "source": [
        "The model has a low prediction, but this model puede mejorar with a increase data registers and change the configuration of the MNN."
      ]
    },
    {
      "cell_type": "markdown",
      "metadata": {
        "id": "3pKUKa_Je1WK"
      },
      "source": [
        "## 3.2 What explanatory variable was the most powerful predictor for fraud?"
      ]
    },
    {
      "cell_type": "markdown",
      "metadata": {
        "id": "mMFmSsbeh18P"
      },
      "source": [
        "The variable with the most powerful predictor for fraud  is the Purchase variable with 0.52 of correlation.\n",
        "\n",
        "\n"
      ]
    },
    {
      "cell_type": "code",
      "metadata": {
        "id": "BFIBdNUNi9hd",
        "outputId": "a5507e6c-b6df-468a-c6b6-d0946358469a",
        "colab": {
          "base_uri": "https://localhost:8080/",
          "height": 627
        }
      },
      "source": [
        "# Correlation matrix\n",
        "corr_matrix = df3_1.corr()\n",
        "corr_matrix"
      ],
      "execution_count": 311,
      "outputs": [
        {
          "output_type": "execute_result",
          "data": {
            "text/html": [
              "<div>\n",
              "<style scoped>\n",
              "    .dataframe tbody tr th:only-of-type {\n",
              "        vertical-align: middle;\n",
              "    }\n",
              "\n",
              "    .dataframe tbody tr th {\n",
              "        vertical-align: top;\n",
              "    }\n",
              "\n",
              "    .dataframe thead th {\n",
              "        text-align: right;\n",
              "    }\n",
              "</style>\n",
              "<table border=\"1\" class=\"dataframe\">\n",
              "  <thead>\n",
              "    <tr style=\"text-align: right;\">\n",
              "      <th></th>\n",
              "      <th>balance</th>\n",
              "      <th>balance_frequency</th>\n",
              "      <th>purchases</th>\n",
              "      <th>oneoff_purchases</th>\n",
              "      <th>installments_purchases</th>\n",
              "      <th>cash_advance</th>\n",
              "      <th>purchases_frequency</th>\n",
              "      <th>oneoff_purchases_frequency</th>\n",
              "      <th>purchases_installments_frequency</th>\n",
              "      <th>cash_advance_frequency</th>\n",
              "      <th>cash_advance_trx</th>\n",
              "      <th>purchases_trx</th>\n",
              "      <th>credit_limit</th>\n",
              "      <th>payments</th>\n",
              "      <th>minimum_payments</th>\n",
              "      <th>prc_full_payment</th>\n",
              "      <th>tenure</th>\n",
              "      <th>fraud</th>\n",
              "    </tr>\n",
              "  </thead>\n",
              "  <tbody>\n",
              "    <tr>\n",
              "      <th>balance</th>\n",
              "      <td>1.000000</td>\n",
              "      <td>0.322451</td>\n",
              "      <td>0.181277</td>\n",
              "      <td>0.164346</td>\n",
              "      <td>0.126515</td>\n",
              "      <td>0.493770</td>\n",
              "      <td>-0.077861</td>\n",
              "      <td>0.073198</td>\n",
              "      <td>-0.063085</td>\n",
              "      <td>0.449188</td>\n",
              "      <td>0.385133</td>\n",
              "      <td>0.154416</td>\n",
              "      <td>0.531257</td>\n",
              "      <td>0.322797</td>\n",
              "      <td>0.393991</td>\n",
              "      <td>-0.318998</td>\n",
              "      <td>0.072673</td>\n",
              "      <td>0.203263</td>\n",
              "    </tr>\n",
              "    <tr>\n",
              "      <th>balance_frequency</th>\n",
              "      <td>0.322451</td>\n",
              "      <td>1.000000</td>\n",
              "      <td>0.133674</td>\n",
              "      <td>0.104323</td>\n",
              "      <td>0.124292</td>\n",
              "      <td>0.098133</td>\n",
              "      <td>0.229715</td>\n",
              "      <td>0.202415</td>\n",
              "      <td>0.176079</td>\n",
              "      <td>0.191873</td>\n",
              "      <td>0.141555</td>\n",
              "      <td>0.189626</td>\n",
              "      <td>0.095795</td>\n",
              "      <td>0.065008</td>\n",
              "      <td>0.114238</td>\n",
              "      <td>-0.095082</td>\n",
              "      <td>0.119776</td>\n",
              "      <td>0.035241</td>\n",
              "    </tr>\n",
              "    <tr>\n",
              "      <th>purchases</th>\n",
              "      <td>0.181277</td>\n",
              "      <td>0.133674</td>\n",
              "      <td>1.000000</td>\n",
              "      <td>0.916845</td>\n",
              "      <td>0.679896</td>\n",
              "      <td>-0.050781</td>\n",
              "      <td>0.393017</td>\n",
              "      <td>0.498430</td>\n",
              "      <td>0.315567</td>\n",
              "      <td>-0.120143</td>\n",
              "      <td>-0.067175</td>\n",
              "      <td>0.689561</td>\n",
              "      <td>0.356959</td>\n",
              "      <td>0.603264</td>\n",
              "      <td>0.093412</td>\n",
              "      <td>0.180379</td>\n",
              "      <td>0.086288</td>\n",
              "      <td>0.520895</td>\n",
              "    </tr>\n",
              "    <tr>\n",
              "      <th>oneoff_purchases</th>\n",
              "      <td>0.164346</td>\n",
              "      <td>0.104323</td>\n",
              "      <td>0.916845</td>\n",
              "      <td>1.000000</td>\n",
              "      <td>0.330622</td>\n",
              "      <td>-0.031021</td>\n",
              "      <td>0.264937</td>\n",
              "      <td>0.524891</td>\n",
              "      <td>0.127729</td>\n",
              "      <td>-0.082628</td>\n",
              "      <td>-0.046212</td>\n",
              "      <td>0.545523</td>\n",
              "      <td>0.319721</td>\n",
              "      <td>0.567292</td>\n",
              "      <td>0.048540</td>\n",
              "      <td>0.132763</td>\n",
              "      <td>0.064150</td>\n",
              "      <td>0.475725</td>\n",
              "    </tr>\n",
              "    <tr>\n",
              "      <th>installments_purchases</th>\n",
              "      <td>0.126515</td>\n",
              "      <td>0.124292</td>\n",
              "      <td>0.679896</td>\n",
              "      <td>0.330622</td>\n",
              "      <td>1.000000</td>\n",
              "      <td>-0.063163</td>\n",
              "      <td>0.442418</td>\n",
              "      <td>0.214042</td>\n",
              "      <td>0.511351</td>\n",
              "      <td>-0.132318</td>\n",
              "      <td>-0.073999</td>\n",
              "      <td>0.628108</td>\n",
              "      <td>0.256496</td>\n",
              "      <td>0.384084</td>\n",
              "      <td>0.131551</td>\n",
              "      <td>0.182569</td>\n",
              "      <td>0.086143</td>\n",
              "      <td>0.357483</td>\n",
              "    </tr>\n",
              "    <tr>\n",
              "      <th>cash_advance</th>\n",
              "      <td>0.493770</td>\n",
              "      <td>0.098133</td>\n",
              "      <td>-0.050781</td>\n",
              "      <td>-0.031021</td>\n",
              "      <td>-0.063163</td>\n",
              "      <td>1.000000</td>\n",
              "      <td>-0.214355</td>\n",
              "      <td>-0.087100</td>\n",
              "      <td>-0.175442</td>\n",
              "      <td>0.623196</td>\n",
              "      <td>0.651609</td>\n",
              "      <td>-0.074551</td>\n",
              "      <td>0.302032</td>\n",
              "      <td>0.449578</td>\n",
              "      <td>0.138803</td>\n",
              "      <td>-0.151919</td>\n",
              "      <td>-0.068972</td>\n",
              "      <td>0.199611</td>\n",
              "    </tr>\n",
              "    <tr>\n",
              "      <th>purchases_frequency</th>\n",
              "      <td>-0.077861</td>\n",
              "      <td>0.229715</td>\n",
              "      <td>0.393017</td>\n",
              "      <td>0.264937</td>\n",
              "      <td>0.442418</td>\n",
              "      <td>-0.214355</td>\n",
              "      <td>1.000000</td>\n",
              "      <td>0.501343</td>\n",
              "      <td>0.862934</td>\n",
              "      <td>-0.308478</td>\n",
              "      <td>-0.203478</td>\n",
              "      <td>0.568430</td>\n",
              "      <td>0.119778</td>\n",
              "      <td>0.103464</td>\n",
              "      <td>0.002900</td>\n",
              "      <td>0.305802</td>\n",
              "      <td>0.061506</td>\n",
              "      <td>0.071416</td>\n",
              "    </tr>\n",
              "    <tr>\n",
              "      <th>oneoff_purchases_frequency</th>\n",
              "      <td>0.073198</td>\n",
              "      <td>0.202415</td>\n",
              "      <td>0.498430</td>\n",
              "      <td>0.524891</td>\n",
              "      <td>0.214042</td>\n",
              "      <td>-0.087100</td>\n",
              "      <td>0.501343</td>\n",
              "      <td>1.000000</td>\n",
              "      <td>0.142329</td>\n",
              "      <td>-0.111716</td>\n",
              "      <td>-0.069088</td>\n",
              "      <td>0.544869</td>\n",
              "      <td>0.295030</td>\n",
              "      <td>0.243537</td>\n",
              "      <td>-0.030064</td>\n",
              "      <td>0.157531</td>\n",
              "      <td>0.082466</td>\n",
              "      <td>0.120314</td>\n",
              "    </tr>\n",
              "    <tr>\n",
              "      <th>purchases_installments_frequency</th>\n",
              "      <td>-0.063085</td>\n",
              "      <td>0.176079</td>\n",
              "      <td>0.315567</td>\n",
              "      <td>0.127729</td>\n",
              "      <td>0.511351</td>\n",
              "      <td>-0.175442</td>\n",
              "      <td>0.862934</td>\n",
              "      <td>0.142329</td>\n",
              "      <td>1.000000</td>\n",
              "      <td>-0.262958</td>\n",
              "      <td>-0.169207</td>\n",
              "      <td>0.529975</td>\n",
              "      <td>0.060752</td>\n",
              "      <td>0.085551</td>\n",
              "      <td>0.029579</td>\n",
              "      <td>0.250087</td>\n",
              "      <td>0.073275</td>\n",
              "      <td>0.071719</td>\n",
              "    </tr>\n",
              "    <tr>\n",
              "      <th>cash_advance_frequency</th>\n",
              "      <td>0.449188</td>\n",
              "      <td>0.191873</td>\n",
              "      <td>-0.120143</td>\n",
              "      <td>-0.082628</td>\n",
              "      <td>-0.132318</td>\n",
              "      <td>0.623196</td>\n",
              "      <td>-0.308478</td>\n",
              "      <td>-0.111716</td>\n",
              "      <td>-0.262958</td>\n",
              "      <td>1.000000</td>\n",
              "      <td>0.799561</td>\n",
              "      <td>-0.131168</td>\n",
              "      <td>0.132616</td>\n",
              "      <td>0.183192</td>\n",
              "      <td>0.097788</td>\n",
              "      <td>-0.249773</td>\n",
              "      <td>-0.133372</td>\n",
              "      <td>0.070455</td>\n",
              "    </tr>\n",
              "    <tr>\n",
              "      <th>cash_advance_trx</th>\n",
              "      <td>0.385133</td>\n",
              "      <td>0.141555</td>\n",
              "      <td>-0.067175</td>\n",
              "      <td>-0.046212</td>\n",
              "      <td>-0.073999</td>\n",
              "      <td>0.651609</td>\n",
              "      <td>-0.203478</td>\n",
              "      <td>-0.069088</td>\n",
              "      <td>-0.169207</td>\n",
              "      <td>0.799561</td>\n",
              "      <td>1.000000</td>\n",
              "      <td>-0.066157</td>\n",
              "      <td>0.149699</td>\n",
              "      <td>0.255278</td>\n",
              "      <td>0.109117</td>\n",
              "      <td>-0.169784</td>\n",
              "      <td>-0.043421</td>\n",
              "      <td>0.142664</td>\n",
              "    </tr>\n",
              "    <tr>\n",
              "      <th>purchases_trx</th>\n",
              "      <td>0.154416</td>\n",
              "      <td>0.189626</td>\n",
              "      <td>0.689561</td>\n",
              "      <td>0.545523</td>\n",
              "      <td>0.628108</td>\n",
              "      <td>-0.074551</td>\n",
              "      <td>0.568430</td>\n",
              "      <td>0.544869</td>\n",
              "      <td>0.529975</td>\n",
              "      <td>-0.131168</td>\n",
              "      <td>-0.066157</td>\n",
              "      <td>1.000000</td>\n",
              "      <td>0.272877</td>\n",
              "      <td>0.370832</td>\n",
              "      <td>0.095776</td>\n",
              "      <td>0.162066</td>\n",
              "      <td>0.121874</td>\n",
              "      <td>0.310419</td>\n",
              "    </tr>\n",
              "    <tr>\n",
              "      <th>credit_limit</th>\n",
              "      <td>0.531257</td>\n",
              "      <td>0.095795</td>\n",
              "      <td>0.356959</td>\n",
              "      <td>0.319721</td>\n",
              "      <td>0.256496</td>\n",
              "      <td>0.302032</td>\n",
              "      <td>0.119778</td>\n",
              "      <td>0.295030</td>\n",
              "      <td>0.060752</td>\n",
              "      <td>0.132616</td>\n",
              "      <td>0.149699</td>\n",
              "      <td>0.272877</td>\n",
              "      <td>1.000000</td>\n",
              "      <td>0.421852</td>\n",
              "      <td>0.124783</td>\n",
              "      <td>0.055671</td>\n",
              "      <td>0.139034</td>\n",
              "      <td>0.200757</td>\n",
              "    </tr>\n",
              "    <tr>\n",
              "      <th>payments</th>\n",
              "      <td>0.322797</td>\n",
              "      <td>0.065008</td>\n",
              "      <td>0.603264</td>\n",
              "      <td>0.567292</td>\n",
              "      <td>0.384084</td>\n",
              "      <td>0.449578</td>\n",
              "      <td>0.103464</td>\n",
              "      <td>0.243537</td>\n",
              "      <td>0.085551</td>\n",
              "      <td>0.183192</td>\n",
              "      <td>0.255278</td>\n",
              "      <td>0.370832</td>\n",
              "      <td>0.421852</td>\n",
              "      <td>1.000000</td>\n",
              "      <td>0.125028</td>\n",
              "      <td>0.112138</td>\n",
              "      <td>0.106136</td>\n",
              "      <td>0.469451</td>\n",
              "    </tr>\n",
              "    <tr>\n",
              "      <th>minimum_payments</th>\n",
              "      <td>0.393991</td>\n",
              "      <td>0.114238</td>\n",
              "      <td>0.093412</td>\n",
              "      <td>0.048540</td>\n",
              "      <td>0.131551</td>\n",
              "      <td>0.138803</td>\n",
              "      <td>0.002900</td>\n",
              "      <td>-0.030064</td>\n",
              "      <td>0.029579</td>\n",
              "      <td>0.097788</td>\n",
              "      <td>0.109117</td>\n",
              "      <td>0.095776</td>\n",
              "      <td>0.124783</td>\n",
              "      <td>0.125028</td>\n",
              "      <td>1.000000</td>\n",
              "      <td>-0.139672</td>\n",
              "      <td>0.057202</td>\n",
              "      <td>0.107869</td>\n",
              "    </tr>\n",
              "    <tr>\n",
              "      <th>prc_full_payment</th>\n",
              "      <td>-0.318998</td>\n",
              "      <td>-0.095082</td>\n",
              "      <td>0.180379</td>\n",
              "      <td>0.132763</td>\n",
              "      <td>0.182569</td>\n",
              "      <td>-0.151919</td>\n",
              "      <td>0.305802</td>\n",
              "      <td>0.157531</td>\n",
              "      <td>0.250087</td>\n",
              "      <td>-0.249773</td>\n",
              "      <td>-0.169784</td>\n",
              "      <td>0.162066</td>\n",
              "      <td>0.055671</td>\n",
              "      <td>0.112138</td>\n",
              "      <td>-0.139672</td>\n",
              "      <td>1.000000</td>\n",
              "      <td>-0.016486</td>\n",
              "      <td>0.029712</td>\n",
              "    </tr>\n",
              "    <tr>\n",
              "      <th>tenure</th>\n",
              "      <td>0.072673</td>\n",
              "      <td>0.119776</td>\n",
              "      <td>0.086288</td>\n",
              "      <td>0.064150</td>\n",
              "      <td>0.086143</td>\n",
              "      <td>-0.068972</td>\n",
              "      <td>0.061506</td>\n",
              "      <td>0.082466</td>\n",
              "      <td>0.073275</td>\n",
              "      <td>-0.133372</td>\n",
              "      <td>-0.043421</td>\n",
              "      <td>0.121874</td>\n",
              "      <td>0.139034</td>\n",
              "      <td>0.106136</td>\n",
              "      <td>0.057202</td>\n",
              "      <td>-0.016486</td>\n",
              "      <td>1.000000</td>\n",
              "      <td>0.016859</td>\n",
              "    </tr>\n",
              "    <tr>\n",
              "      <th>fraud</th>\n",
              "      <td>0.203263</td>\n",
              "      <td>0.035241</td>\n",
              "      <td>0.520895</td>\n",
              "      <td>0.475725</td>\n",
              "      <td>0.357483</td>\n",
              "      <td>0.199611</td>\n",
              "      <td>0.071416</td>\n",
              "      <td>0.120314</td>\n",
              "      <td>0.071719</td>\n",
              "      <td>0.070455</td>\n",
              "      <td>0.142664</td>\n",
              "      <td>0.310419</td>\n",
              "      <td>0.200757</td>\n",
              "      <td>0.469451</td>\n",
              "      <td>0.107869</td>\n",
              "      <td>0.029712</td>\n",
              "      <td>0.016859</td>\n",
              "      <td>1.000000</td>\n",
              "    </tr>\n",
              "  </tbody>\n",
              "</table>\n",
              "</div>"
            ],
            "text/plain": [
              "                                   balance  ...     fraud\n",
              "balance                           1.000000  ...  0.203263\n",
              "balance_frequency                 0.322451  ...  0.035241\n",
              "purchases                         0.181277  ...  0.520895\n",
              "oneoff_purchases                  0.164346  ...  0.475725\n",
              "installments_purchases            0.126515  ...  0.357483\n",
              "cash_advance                      0.493770  ...  0.199611\n",
              "purchases_frequency              -0.077861  ...  0.071416\n",
              "oneoff_purchases_frequency        0.073198  ...  0.120314\n",
              "purchases_installments_frequency -0.063085  ...  0.071719\n",
              "cash_advance_frequency            0.449188  ...  0.070455\n",
              "cash_advance_trx                  0.385133  ...  0.142664\n",
              "purchases_trx                     0.154416  ...  0.310419\n",
              "credit_limit                      0.531257  ...  0.200757\n",
              "payments                          0.322797  ...  0.469451\n",
              "minimum_payments                  0.393991  ...  0.107869\n",
              "prc_full_payment                 -0.318998  ...  0.029712\n",
              "tenure                            0.072673  ...  0.016859\n",
              "fraud                             0.203263  ...  1.000000\n",
              "\n",
              "[18 rows x 18 columns]"
            ]
          },
          "metadata": {
            "tags": []
          },
          "execution_count": 311
        }
      ]
    }
  ]
}